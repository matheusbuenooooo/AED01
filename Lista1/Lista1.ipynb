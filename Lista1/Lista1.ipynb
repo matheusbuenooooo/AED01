{
  "nbformat": 4,
  "nbformat_minor": 0,
  "metadata": {
    "colab": {
      "provenance": []
    },
    "kernelspec": {
      "name": "python3",
      "display_name": "Python 3"
    },
    "language_info": {
      "name": "python"
    }
  },
  "cells": [
    {
      "cell_type": "markdown",
      "source": [
        "Faça um programa para ler um número e mostrar se ele é par ou ímpar, positivo ou negativo."
      ],
      "metadata": {
        "id": "wctSFfYye6Ab"
      }
    },
    {
      "cell_type": "code",
      "source": [
        "numero = int(input(\"Digite um número: \"))\n",
        "\n",
        "if numero % 2 == 0 and numero > 0:\n",
        "    print(\"Esse número é par e positivo!\")\n",
        "\n",
        "elif numero % 2 == 0 and numero < 0:\n",
        "    print(\"Esse número é par e negativo!\")\n",
        "\n",
        "elif numero % 2 != 0 and numero > 0:\n",
        "    print(\"Esse número é impar e positivo\")\n",
        "\n",
        "else:\n",
        "    print(\"Esse número é impar e negativo!\")"
      ],
      "metadata": {
        "id": "L-druUgWWCJ2"
      },
      "execution_count": null,
      "outputs": []
    },
    {
      "cell_type": "markdown",
      "source": [
        "Faça um programa que peça dois números e imprima o maior deles."
      ],
      "metadata": {
        "id": "LSltto6lfAFJ"
      }
    },
    {
      "cell_type": "code",
      "source": [
        "numero1 = float(input(\"Digite o primeiro número: \"))\n",
        "numero2 = float(input(\"Digite o segundo número: \"))\n",
        "\n",
        "if numero1 > numero2:\n",
        "    print(\"O maior número é \", numero1)\n",
        "\n",
        "else:\n",
        "    print(\"O maior número é \", numero2)"
      ],
      "metadata": {
        "id": "6Jet1rSqdW_A"
      },
      "execution_count": null,
      "outputs": []
    },
    {
      "cell_type": "markdown",
      "source": [
        "Faça um prorama que peça um valor e mostre na tela se o valor é positivo ou negativo."
      ],
      "metadata": {
        "id": "Poli9jxnfC6y"
      }
    },
    {
      "cell_type": "code",
      "source": [
        "numero = int(input(\"Digite o número: \"))\n",
        "\n",
        "if numero >= 0:\n",
        "    print(\"Esse número é positivo!\")\n",
        "\n",
        "else:\n",
        "    print(\"Esse número é negativo!\")"
      ],
      "metadata": {
        "id": "UbPW5oCWWN8x"
      },
      "execution_count": null,
      "outputs": []
    },
    {
      "cell_type": "markdown",
      "source": [
        "Faça um programa que verefique se uma letra é vogal ou consoante."
      ],
      "metadata": {
        "id": "WZO_JF7Bf-qe"
      }
    },
    {
      "cell_type": "code",
      "source": [
        "letra = str(input(\"Digite uma letra: \"))\n",
        "\n",
        "if letra in \"aeiou\":\n",
        "    print(\"É uma vogal!\")\n",
        "\n",
        "else:\n",
        "    print(\"É uma consoante!\")"
      ],
      "metadata": {
        "id": "KXtiUZ9qWUdc"
      },
      "execution_count": null,
      "outputs": []
    },
    {
      "cell_type": "markdown",
      "source": [
        "Faça um programa para a leitura de duas notas parciais de um aluno. O programa deve calcular a média alcançada por aluno e apresentar:\n",
        "\n",
        "  A. A mensagem \"Aprovado\", se a média alcançada for maior ou igual a sete;\n",
        "\n",
        "  B. A mensagem \"Reprovado\", se a média for menor do que sete;\n",
        "  \n",
        "  C. A mensagem \"Aprovado com Distinção\", se a média for igual a dez."
      ],
      "metadata": {
        "id": "o-u5QgLCgMmc"
      }
    },
    {
      "cell_type": "code",
      "source": [
        "nota1 = float(input(\"Digite a primeira nota: \"))\n",
        "nota2 = float(input(\"Digite a segunda nota: \"))\n",
        "\n",
        "media = (nota1 + nota2) / 2\n",
        "\n",
        "if media >= 7 and media < 10:\n",
        "    print(\"Aprovado!\")\n",
        "\n",
        "elif media == 10:\n",
        "    print(\"Aprovado com distinção!\")\n",
        "\n",
        "else:\n",
        "    print(\"Reprovado!\")"
      ],
      "metadata": {
        "id": "N--2-wVcWUnI",
        "colab": {
          "base_uri": "https://localhost:8080/"
        },
        "outputId": "7d1bc9ee-d900-4d35-c306-48b422a75851"
      },
      "execution_count": null,
      "outputs": [
        {
          "output_type": "stream",
          "name": "stdout",
          "text": [
            "Digite a primeira nota: 2\n",
            "Digite a segunda nota: 1\n",
            "Reprovado!\n"
          ]
        }
      ]
    },
    {
      "cell_type": "markdown",
      "source": [
        "Faça um programa que pergunte o preço de três produtos e informe qual produto você deve comprar, sabendo que a\n",
        "decisão é sempre pelo mais barato."
      ],
      "metadata": {
        "id": "RjBtm5TbiPIR"
      }
    },
    {
      "cell_type": "code",
      "source": [
        "produto1 = float(input(\"Digite o preço do produto 1: \"))\n",
        "produto2 = float(input(\"Digite o preço do produto 2: \"))\n",
        "produto3 = float(input(\"Digite o preço do produto 3: \"))\n",
        "\n",
        "if produto1 < produto2 and produto1 < produto3:\n",
        "    print(\"O produto 1 é o mais barato, por isso deve ser comprado!\")\n",
        "\n",
        "elif produto2 < produto1 and produto2 < produto3:\n",
        "    print(\"O produto 2 é o mais barato, por isso deve ser comprado!\")\n",
        "\n",
        "else:\n",
        "    print(\"O produto 3 é o mais barato, por isso deve ser comprado!\")"
      ],
      "metadata": {
        "id": "9JEhwIMIWZDP"
      },
      "execution_count": null,
      "outputs": []
    },
    {
      "cell_type": "markdown",
      "source": [
        "Faça um programa que leia três números e mostre-os em ordem decrescente"
      ],
      "metadata": {
        "id": "NY5Cm53Uihgt"
      }
    },
    {
      "cell_type": "code",
      "source": [
        "n1 = float(input(\"Digite o primeiro número: \"))\n",
        "n2 = float(input(\"Digite o segundo número: \"))\n",
        "n3 = float(input(\"Digite o terceiro número: \"))\n",
        "\n",
        "if n1 > n2 and n1 > n3 and n2 > n3:\n",
        "    print(n1, n2, n3)\n",
        "\n",
        "elif n1 > n2 and n1 > n3 and n3 > n2:\n",
        "    print(n1, n3, n2)\n",
        "\n",
        "elif n2 > n1 and n2 > n3 and n1 > n3:\n",
        "    print(n2, n1, n3)\n",
        "\n",
        "elif n2 > n1 and n2 > n3 and n3 > n1:\n",
        "    print(n2, n3, n1)\n",
        "\n",
        "elif n3 > n1 and n3 > n2 and n1 > n2:\n",
        "    print(n3, n1, n2)\n",
        "\n",
        "else:\n",
        "    print(n3, n2, n1)"
      ],
      "metadata": {
        "id": "m-5nSZDrisCJ"
      },
      "execution_count": null,
      "outputs": []
    },
    {
      "cell_type": "markdown",
      "source": [
        "Faça um programa que pergunte em que turno você estuda. Peça para digitar M-matutino ou V-Vespertino ou N- Noturno.\n",
        "Imprima a mensagem \"Bom Dia!\", \"Boa Tarde!\" ou \"Boa Noite!\" ou \"Valor Inválido!\", conforme o caso."
      ],
      "metadata": {
        "id": "czDG2Ha-isgi"
      }
    },
    {
      "cell_type": "code",
      "source": [
        "periodo = str(input(\"Digite a primeira letra do período que você estuda: \"))\n",
        "\n",
        "if periodo == \"M\":\n",
        "    print(\"Bom dia!\")\n",
        "\n",
        "elif periodo == \"V\":\n",
        "    print(\"Boa tarde\")\n",
        "\n",
        "elif periodo == \"N\":\n",
        "    print(\"Boa noite!\")\n",
        "\n",
        "else:\n",
        "    print(\"Letra inválida!\")"
      ],
      "metadata": {
        "id": "CcGLuMaeWgYq"
      },
      "execution_count": null,
      "outputs": []
    },
    {
      "cell_type": "markdown",
      "source": [
        "As Organizações Tabajara resolveram dar um aumento de salário aos seus colaboradores e lhe contraram para\n",
        "desenvolver o programa que calculará os reajustes.\n",
        "\n",
        "A. Faça um programa que recebe o salário de um colaborador e o reajuste segundo o seguinte critério, baseado no\n",
        "salário atual:\n",
        "\n",
        "B. salários até RS 280,00 (incluindo) : aumento de 20%\n",
        "\n",
        "C. salários entre RS 280,00 e RS 700,00 : aumento de 15%\n",
        "\n",
        "D. salários entre RS 700,00 e RS 1500,00 : aumento de 10%\n",
        "\n",
        "E. salários de RS 1500,00 em diante : aumento de 5% Após o aumento ser realizado, informe na tela:\n",
        "\n",
        "F. o salário antes do reajuste;\n",
        "\n",
        "G. o percentual de aumento aplicado;\n",
        "\n",
        "H. o valor do aumento;\n",
        "\n",
        "I. o novo salário, após o aumento."
      ],
      "metadata": {
        "id": "krBLrFowi5Xd"
      }
    },
    {
      "cell_type": "code",
      "source": [
        "salario = float(input(\"Digite seu salário: \"))\n",
        "\n",
        "if salario <= 280:\n",
        "\n",
        "    percentual = 20\n",
        "    aumento = salario * 0.2\n",
        "    novo_salario = salario + aumento\n",
        "\n",
        "elif salario > 280 and salario <= 700:\n",
        "\n",
        "    percentual = 15\n",
        "    aumento = salario * 0.15\n",
        "\n",
        "elif salario > 700 and salario <= 1500:\n",
        "\n",
        "    percentual = 10\n",
        "    aumento = salario * 0.1\n",
        "\n",
        "else:\n",
        "\n",
        "    percentual = 5\n",
        "    aumento = salario * 0.05\n",
        "\n",
        "print(\"Salário antes do reajuste: \", salario)\n",
        "print(\"Percentual de aumento aplicado: \", percentual)\n",
        "print(\"Valor do aumento: \", aumento)\n",
        "print(\"Novo salário: \", novo_salario)"
      ],
      "metadata": {
        "id": "_3vUMfjqWiix",
        "colab": {
          "base_uri": "https://localhost:8080/"
        },
        "outputId": "cd188c36-1c6d-40a9-cc4c-faeeba3f7990"
      },
      "execution_count": null,
      "outputs": [
        {
          "output_type": "stream",
          "name": "stdout",
          "text": [
            "Digite seu salário: 100\n",
            "Salário antes do reajuste:  100.0\n",
            "Percentual de aumento aplicado:  20\n",
            "Valor do aumento:  20.0\n",
            "Novo salário:  120.0\n"
          ]
        }
      ]
    },
    {
      "cell_type": "markdown",
      "source": [
        "Faça um programa para o cálculo de uma folha de pagamento, sabendo que os descontos são do Imposto de Renda, que\n",
        "depende do salário bruto (conforme tabela abaixo) e 3% para o Sindicato e que o FGTS corresponde a 11% do Salário\n",
        "Bruto, mas não é descontado (é a empresa que deposita). O Salário Líquido corresponde ao Salário Bruto menos os\n",
        "descontos. O programa deverá pedir ao usuário o valor da sua hora e a quantidade de horas trabalhadas no mês.\n",
        "\n",
        "A. Desconto do IR:\n",
        "\n",
        "B. Salário Bruto até 900 (inclusive) - isento\n",
        "\n",
        "C. Salário Bruto até 1500 (inclusive) - desconto de 5%\n",
        "\n",
        "D. Salário Bruto até 2500 (inclusive) - desconto de 10%\n",
        "\n",
        "E. Salário Bruto acima de 2500 - desconto de 20% Imprima na tela as informações, dispostas conforme o exemplo\n",
        "abaixo. No exemplo o valor da hora é 5 e a quantidade de hora é 220.\n",
        "\n",
        "F. Salário Bruto: (5 * 220) : RS 1100,00\n",
        "\n",
        "G. (-) IR (5%) : RS 55,00\n",
        "\n",
        "H. (-) INSS ( 10%) : RS 110,00\n",
        "\n",
        "I. FGTS (11%) : RS 121,00\n",
        "\n",
        "J. Total de descontos : RS 165,00\n",
        " Salário Liquido : RS 935,00"
      ],
      "metadata": {
        "id": "HLe3cbEwjoW5"
      }
    },
    {
      "cell_type": "code",
      "source": [
        "hora = float(input(\"Digite o valor da hora: \"))\n",
        "horas_trabalhadas = float(input(\"Digite a quantidade de horas trabalhadas: \"))\n",
        "\n",
        "salario_bruto = hora * horas_trabalhadas\n",
        "\n",
        "if salario_bruto <= 900:\n",
        "\n",
        "    ir = 0\n",
        "    porcentagem = 0\n",
        "\n",
        "    inss = salario_bruto * 0.1\n",
        "    fgts = salario_bruto * 0.11\n",
        "    total_descontos = ir + inss\n",
        "\n",
        "    salario_liquido = salario_bruto - total_descontos\n",
        "\n",
        "elif salario_bruto > 900 and salario_bruto <= 1500:\n",
        "\n",
        "    ir = salario_bruto * 0.05\n",
        "    porcentagem = 5\n",
        "\n",
        "    inss = salario_bruto * 0.1\n",
        "    fgts = salario_bruto * 0.11\n",
        "    total_descontos = ir + inss\n",
        "\n",
        "    salario_liquido = salario_bruto - total_descontos\n",
        "\n",
        "elif salario_bruto > 1500 and salario_bruto <= 2500:\n",
        "\n",
        "    ir = salario_bruto * 0.1\n",
        "    porcentagem = 10\n",
        "\n",
        "    inss = salario_bruto * 0.1\n",
        "    fgts = salario_bruto * 0.11\n",
        "    total_descontos = ir + inss\n",
        "\n",
        "    salario_liquido = salario_bruto - total_descontos\n",
        "\n",
        "else:\n",
        "\n",
        "    ir = salario_bruto * 0.2\n",
        "    porcentagem = 20\n",
        "\n",
        "    inss = salario_bruto * 0.1\n",
        "    fgts = salario_bruto * 0.11\n",
        "    total_descontos = ir + inss\n",
        "\n",
        "    salario_liquido = salario_bruto - total_descontos\n",
        "\n",
        "print(\"Salário Bruto: \", salario_bruto)\n",
        "print(f\"(-) IR({porcentagem}%): \", ir)\n",
        "print(\"(-) INSS(10%): \", inss)\n",
        "print(\"FGTS(11%): \", fgts)\n",
        "print(\"Total de descontos: \", total_descontos)\n",
        "print(\"Salário Liquido: \", salario_liquido)"
      ],
      "metadata": {
        "id": "k_Jq_0yCtXO2",
        "colab": {
          "base_uri": "https://localhost:8080/"
        },
        "outputId": "68bb232a-2d2e-4b28-c991-ee9b4ed4cc65"
      },
      "execution_count": null,
      "outputs": [
        {
          "output_type": "stream",
          "name": "stdout",
          "text": [
            "Digite o valor da hora: 5\n",
            "Digite a quantidade de horas trabalhadas: 220\n",
            "Salário Bruto:  1100.0\n",
            "(-) IR(5%):  55.0\n",
            "(-) INSS(10%):  110.0\n",
            "FGTS(11%):  121.0\n",
            "Total de descontos:  165.0\n",
            "Salário Liquido:  935.0\n"
          ]
        }
      ]
    },
    {
      "cell_type": "markdown",
      "source": [
        "Faça um programa que lê as duas notas parciais obtidas por um aluno numa disciplina ao longo de um semestre, e calcule\n",
        "a sua média. A atribuição de conceitos obedece à tabela abaixo:\n",
        "\n",
        "A. Média de Aproveitamento Conceito\n",
        "\n",
        "B. Entre 9.0 e 10.0 A\n",
        "\n",
        "C. Entre 7.5 e 9.0 B\n",
        "\n",
        "D. Entre 6.0 e 7.5 C\n",
        "\n",
        "E. Entre 4.0 e 6.0 D\n",
        "\n",
        "F. Entre 4.0 e zero E\n"
      ],
      "metadata": {
        "id": "fkrD3xALjpTL"
      }
    },
    {
      "cell_type": "code",
      "source": [
        "nota1 = float(input(\"Digite a primeira nota: \"))\n",
        "nota2 = float(input(\"Digite a segunda nota: \"))\n",
        "\n",
        "media = (nota1 + nota2) / 2\n",
        "\n",
        "if media >= 9 and media <= 10:\n",
        "  print(\"Conceito A\")\n",
        "\n",
        "elif media >= 7.5 and media < 9:\n",
        "  print(\"Conceito B\")\n",
        "\n",
        "elif media >= 6 and media < 7.5:\n",
        "  print(\"Conceito C\")\n",
        "\n",
        "elif media >= 4 and media < 6:\n",
        "  print(\"Conceito D\")\n",
        "\n",
        "else:\n",
        "  print(\"Conceito E\")"
      ],
      "metadata": {
        "colab": {
          "base_uri": "https://localhost:8080/"
        },
        "id": "AvcO8Vh0tXuE",
        "outputId": "db7be7dd-2d66-43e5-d7da-cca394dca54b"
      },
      "execution_count": null,
      "outputs": [
        {
          "output_type": "stream",
          "name": "stdout",
          "text": [
            "Digite a primeira nota: 9.7\n",
            "Digite a segunda nota: 4\n",
            "Conceito C\n"
          ]
        }
      ]
    }
  ]
}