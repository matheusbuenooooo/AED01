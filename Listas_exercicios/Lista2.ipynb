{
 "cells": [
  {
   "cell_type": "markdown",
   "metadata": {
    "id": "jvyUHHqmpoVS"
   },
   "source": [
    "Faça um programa que peça uma nota, entre zero e dez. Mostre uma mensagem caso o valor seja inválido e continue\n",
    "pedindo até que o usuário informe um valor válido."
   ]
  },
  {
   "cell_type": "code",
   "execution_count": null,
   "metadata": {
    "colab": {
     "base_uri": "https://localhost:8080/"
    },
    "id": "s5ZKg9ucpq5k",
    "outputId": "e97015d7-3a25-4921-8e66-6d83a3b79c61"
   },
   "outputs": [
    {
     "name": "stdout",
     "output_type": "stream",
     "text": [
      "Informe uma nota: -1\n",
      "Nota Invalida\n",
      "Informe uma nota: 4\n",
      "Nota Valida\n"
     ]
    }
   ],
   "source": [
    "nota = -1\n",
    "\n",
    "while (nota < 0) or (nota > 10):\n",
    "    nota = int(input(\"Informe uma nota: \"))\n",
    "\n",
    "    if (nota < 0) or (nota > 10):\n",
    "        print(\"Nota Invalida\")\n",
    "\n",
    "    else:\n",
    "        print(\"Nota Valida\")\n"
   ]
  },
  {
   "cell_type": "markdown",
   "metadata": {
    "id": "Rg7AD6GKprED"
   },
   "source": [
    "Faça um programa que leia um nome de usuário e a sua senha e não aceite a senha igual ao nome do usuário, mostrando\n",
    "uma mensagem de erro e voltando a pedir as informações."
   ]
  },
  {
   "cell_type": "code",
   "execution_count": null,
   "metadata": {
    "colab": {
     "base_uri": "https://localhost:8080/"
    },
    "id": "aBO2jpbmp-kh",
    "outputId": "751574ba-28c1-4aec-cb0d-0073a8401830"
   },
   "outputs": [
    {
     "name": "stdout",
     "output_type": "stream",
     "text": [
      "Informe um nome de usuario: ana\n",
      "Informe a senha: ana\n",
      "A senha não pode ser igual ao nome do usuario!\n",
      "Informe um nome de usuario: Math\n",
      "Informe a senha: 12345\n",
      "Usuario e senha validos!\n"
     ]
    }
   ],
   "source": [
    "usuario = senha = ''\n",
    "\n",
    "while (usuario == senha):\n",
    "    usuario = input(\"Informe um nome de usuario: \")\n",
    "    senha = input(\"Informe a senha: \")\n",
    "\n",
    "    if (usuario == senha):\n",
    "        print(\"A senha não pode ser igual ao nome do usuario!\")\n",
    "\n",
    "    else:\n",
    "        print(\"Usuario e senha validos!\")\n"
   ]
  },
  {
   "cell_type": "markdown",
   "metadata": {
    "id": "NG71fAXuqCE7"
   },
   "source": [
    "Faça um programa que leia e valide as seguintes informações:\n",
    "\n",
    "A. Nome: maior que 3 caracteres;\n",
    "\n",
    "B. Idade: entre 0 e 150;\n",
    "\n",
    "C. Salário: maior que zero;\n",
    "\n",
    "D. Sexo: 'f' ou 'm';\n",
    "\n",
    "E. Estado Civil: 's', 'c', 'v', 'd';"
   ]
  },
  {
   "cell_type": "code",
   "execution_count": null,
   "metadata": {
    "colab": {
     "base_uri": "https://localhost:8080/"
    },
    "id": "qdz58s6VqP9I",
    "outputId": "3515723e-5685-48cb-d330-aadf18b5a442"
   },
   "outputs": [
    {
     "name": "stdout",
     "output_type": "stream",
     "text": [
      "Informe um nome: matheus\n",
      "Informe a idade: 59\n",
      "Informe o salario: 10\n",
      "Informe o sexo: m\n",
      "Informe o estado civil: s\n",
      "Informações coletadas com sucesso!\n"
     ]
    }
   ],
   "source": [
    "nome = ''\n",
    "idade = -1\n",
    "salario = -1\n",
    "sexo = ''\n",
    "estadoCivil = ''\n",
    "\n",
    "while (len(nome) <= 3):\n",
    "    nome = input(\"Informe um nome: \")\n",
    "    if (len(nome) <= 3):\n",
    "        print(\"Nome invalido! O nome deve ter mais que três carcteres!\")\n",
    "\n",
    "while (idade < 0) or (idade > 150):\n",
    "    idade = int(input(\"Informe a idade: \"))\n",
    "    if (idade < 0) or (idade > 150):\n",
    "        print(\"Idade invalida! A idade deve estar entre 0 a 150 anos!\")\n",
    "\n",
    "while (salario < 1):\n",
    "    salario = float(input(\"Informe o salario: \"))\n",
    "    if (salario < 1):\n",
    "        print(\"Salario invalido! O salario deve ser maior que zero!\")\n",
    "\n",
    "while (sexo != 'f') and (sexo != 'm'):\n",
    "    sexo = input(\"Informe o sexo: \")\n",
    "    if (sexo != 'f') and (sexo != 'm'):\n",
    "        print(\"Sexo invalido! O sexo deve ser 'f' ou 'm'!\")\n",
    "\n",
    "while (estadoCivil != 's') and (estadoCivil != 'c') and (estadoCivil != 'v') and (estadoCivil != 'd'):\n",
    "    estadoCivil = input(\"Informe o estado civil: \")\n",
    "    if (estadoCivil != 's') and (estadoCivil != 'c') and (estadoCivil != 'v') and (estadoCivil != 'd'):\n",
    "        print(\"Estado civil invalido! O estado civil deve ser 's', 'c', 'v' ou 'd'!\")\n",
    "\n",
    "print(\"Informações coletadas com sucesso!\")"
   ]
  },
  {
   "cell_type": "markdown",
   "metadata": {
    "id": "t_3AkjRwqQgO"
   },
   "source": [
    "Supondo que a população de um país A seja da ordem de 80000 habitantes com uma taxa anual de crescimento de 3% e\n",
    "que a população de B seja 200000 habitantes com uma taxa de crescimento de 1.5%.\n",
    "\n",
    "Faça um programa que calcule e\n",
    "escreva o número de anos necessários para que a população do país A ultrapasse ou iguale a população do país B,\n",
    "mantidas as taxas de crescimento."
   ]
  },
  {
   "cell_type": "code",
   "execution_count": null,
   "metadata": {
    "colab": {
     "base_uri": "https://localhost:8080/"
    },
    "id": "gOK_DzC3qXeR",
    "outputId": "a2268c4f-d374-4662-a4eb-085781ef66cd"
   },
   "outputs": [
    {
     "name": "stdout",
     "output_type": "stream",
     "text": [
      "Serão necessários 63 anos para que a população do país 'A' ultrapasse ou iguale a população do país 'B'.\n"
     ]
    }
   ],
   "source": [
    "populacao_a = 80000\n",
    "populacao_b = 200000\n",
    "taxa_a = 0.03\n",
    "taxa_b = 0.015\n",
    "\n",
    "anos = 0\n",
    "\n",
    "while populacao_a < populacao_b:\n",
    "    populacao_a += populacao_a * taxa_a\n",
    "    populacao_b += populacao_b * taxa_b\n",
    "    anos += 1\n",
    "\n",
    "print(\"Serão necessários\", anos,\"anos para que a população do país 'A' ultrapasse ou iguale a população do país 'B'.\")"
   ]
  },
  {
   "cell_type": "markdown",
   "metadata": {
    "id": "buUJdz8sqd5Y"
   },
   "source": [
    "Faça um programa que leia 5 números e informe a soma e a média dos números."
   ]
  },
  {
   "cell_type": "code",
   "execution_count": null,
   "metadata": {
    "colab": {
     "base_uri": "https://localhost:8080/"
    },
    "id": "XFvSibKSqlaQ",
    "outputId": "9f04dd8f-1312-4753-c2e0-1d812aee03b6"
   },
   "outputs": [
    {
     "name": "stdout",
     "output_type": "stream",
     "text": [
      "Informe o 1º numero: 1\n",
      "Informe o 2º numero: 1\n",
      "Informe o 3º numero: 1\n",
      "Informe o 4º numero: 1\n",
      "Informe o 5º numero: 1\n",
      "A soma dos numeros é:  5\n",
      "A media dos numeros é:  1.0\n"
     ]
    }
   ],
   "source": [
    "soma = 0\n",
    "\n",
    "for i in range(0,5):\n",
    "\n",
    "    soma += int(input(f\"Informe o {i + 1}º numero: \"))\n",
    "\n",
    "print(\"A soma dos numeros é: \", soma)\n",
    "print(\"A media dos numeros é: \", soma/5)\n"
   ]
  },
  {
   "cell_type": "markdown",
   "metadata": {
    "id": "UYCpSoG-ql60"
   },
   "source": [
    "Desenvolva um gerador de tabuada, capaz de gerar a tabuada de qualquer número inteiro entre 1 a 10. O usuário deve\n",
    "informar de qual numero ele deseja ver a tabuada. A saída deve ser conforme o exemplo abaixo:\n",
    "\n",
    "A. Tabuada de 5:\n",
    "\n",
    "B. 5 X 1 = 5\n",
    "\n",
    "C. 5 X 2 = 10\n",
    "\n",
    "D. ...\n",
    "\n",
    "E. 5 X 10 = 50"
   ]
  },
  {
   "cell_type": "code",
   "execution_count": null,
   "metadata": {
    "colab": {
     "base_uri": "https://localhost:8080/"
    },
    "id": "8HRRCE9hrJKX",
    "outputId": "30b8f9af-1f37-4a12-ca62-385a6b08fad9"
   },
   "outputs": [
    {
     "name": "stdout",
     "output_type": "stream",
     "text": [
      "Informe o número que deseja ver a tabuada: 1\n",
      "1 X 0 = 0\n",
      "1 X 1 = 1\n",
      "1 X 2 = 2\n",
      "1 X 3 = 3\n",
      "1 X 4 = 4\n",
      "1 X 5 = 5\n",
      "1 X 6 = 6\n",
      "1 X 7 = 7\n",
      "1 X 8 = 8\n",
      "1 X 9 = 9\n",
      "1 X 10 = 10\n"
     ]
    }
   ],
   "source": [
    "numero = int(input(\"Informe o número que deseja ver a tabuada: \"))\n",
    "\n",
    "for i in range(0,11):\n",
    "\n",
    "  print(f\"{numero} X {i} = {numero * i}\")"
   ]
  },
  {
   "cell_type": "markdown",
   "metadata": {
    "id": "g--tJmrlrNks"
   },
   "source": [
    "A série de Fibonacci é formada pela seqüência 1,1,2,3,5,8,13,21,34,55,... Faça um programa capaz de gerar a série até o\n",
    "n−ésimo termo."
   ]
  },
  {
   "cell_type": "code",
   "execution_count": null,
   "metadata": {
    "colab": {
     "base_uri": "https://localhost:8080/"
    },
    "id": "fW8wT1DHquzO",
    "outputId": "199dc68b-6c4d-475b-988f-05ceaae0d027"
   },
   "outputs": [
    {
     "name": "stdout",
     "output_type": "stream",
     "text": [
      "Informe a quantidade de termos da série de Fibonacci: 3\n",
      "Série de Fibonacci:\n",
      "1 1 2 "
     ]
    }
   ],
   "source": [
    "n = int(input(\"Informe a quantidade de termos da série de Fibonacci: \"))\n",
    "\n",
    "while n <= 0:\n",
    "    print(\"Valor inválido! Informe um número maior que zero.\")\n",
    "    n = int(input(\"Informe a quantidade de termos: \"))\n",
    "\n",
    "termo1 = 1\n",
    "termo2 = 1\n",
    "\n",
    "print(\"Série de Fibonacci:\")\n",
    "if n == 1:\n",
    "    print(termo1)\n",
    "\n",
    "elif n >= 2:\n",
    "    print(termo1, termo2, end=\" \")\n",
    "\n",
    "    for i in range(3, n + 1):\n",
    "        proximo = termo1 + termo2\n",
    "        print(proximo, end=\" \")\n",
    "        termo1 = termo2\n",
    "        termo2 = proximo\n"
   ]
  },
  {
   "cell_type": "markdown",
   "metadata": {
    "id": "yLZeIBClrcle"
   },
   "source": [
    "Faça um programa que calcule o mostre a média aritmética de N notas."
   ]
  },
  {
   "cell_type": "code",
   "execution_count": null,
   "metadata": {
    "colab": {
     "base_uri": "https://localhost:8080/"
    },
    "id": "Ej6hnVQBrfmS",
    "outputId": "45a361b6-c7d2-456e-d588-22d373382053"
   },
   "outputs": [
    {
     "name": "stdout",
     "output_type": "stream",
     "text": [
      "Informe a quantidade de notas: 2\n",
      "Informe a 1º nota: 10\n",
      "Informe a 2º nota: 2\n",
      "A média das notas é:  6.0\n"
     ]
    }
   ],
   "source": [
    "n_notas = int(input(\"Informe a quantidade de notas: \"))\n",
    "soma = 0\n",
    "\n",
    "for i in range(0,n_notas):\n",
    "\n",
    "    soma += int(input(f\"Informe a {i + 1}º nota: \"))\n",
    "\n",
    "print(\"A média das notas é: \", soma/n_notas)"
   ]
  },
  {
   "cell_type": "markdown",
   "metadata": {
    "id": "BluA9vbnrgF_"
   },
   "source": [
    "O Sr. Manoel Joaquim possui uma grande loja de artigos de R$ 1,99, com cerca de 10 caixas. Para agilizar o cálculo de\n",
    "quanto cada cliente deve pagar ele desenvolveu um tabela que contém o número de itens que o cliente comprou e ao lado\n",
    "o valor da conta. Desta forma a atendente do caixa precisa apenas contar quantos itens o cliente está levando e olhar na\n",
    "tabela de preços. Você foi contratado para desenvolver o programa que monta esta tabela de preços, que conterá os preços\n",
    "de 1 até 50 produtos, conforme o exemplo abaixo:\n",
    "\n",
    "A. Lojas Quase Dois - Tabela de preços\n",
    "\n",
    "B. 1 - RS 1.99\n",
    "\n",
    "C. 2 - RS 3.98\n",
    "\n",
    "D. ...\n",
    "\n",
    "E. 50 - RS 99.50"
   ]
  },
  {
   "cell_type": "code",
   "execution_count": null,
   "metadata": {
    "colab": {
     "base_uri": "https://localhost:8080/"
    },
    "id": "LTrGr_KOr9qG",
    "outputId": "a6466177-9cb2-4c2c-9f01-d5d4d1f9f2be"
   },
   "outputs": [
    {
     "name": "stdout",
     "output_type": "stream",
     "text": [
      "Informe a quantidade de itens: 2\n",
      "1 - R$ 1.99\n",
      "2 - R$ 3.98\n"
     ]
    }
   ],
   "source": [
    "qtd_itens = int(input(\"Informe a quantidade de itens: \"))\n",
    "\n",
    "for i in range(1,qtd_itens + 1):\n",
    "\n",
    "    print(f\"{i} - R$ {i * 1.99}\")"
   ]
  },
  {
   "cell_type": "markdown",
   "metadata": {
    "id": "Luyk91MkQTo5"
   },
   "source": [
    "O Departamento Estadual de Meteorologia lhe contratou para desenvolver um programa que leia um conjunto indeterminado de\n",
    "temperaturas, e informe ao final a menor e a maior temperaturas informadas, bem como a média das temperaturas."
   ]
  },
  {
   "cell_type": "code",
   "execution_count": null,
   "metadata": {
    "colab": {
     "base_uri": "https://localhost:8080/"
    },
    "id": "QdJOFhqqQV3m",
    "outputId": "e51fbc89-b013-425b-8a5b-8f6182c682e6"
   },
   "outputs": [
    {
     "name": "stdout",
     "output_type": "stream",
     "text": [
      "Informe a quantidade de temperaturas: 2\n",
      "Informe a 1ª temperatura: 10\n",
      "Informe a 2ª temperatura: 20\n",
      "A maior temperatura é: 20.0\n",
      "A menor temperatura é: 10.0\n",
      "A média das temperaturas é: 15.0\n"
     ]
    }
   ],
   "source": [
    "quantidade = 0\n",
    "\n",
    "while quantidade <= 0:\n",
    "    quantidade = int(input(\"Informe a quantidade de temperaturas: \"))\n",
    "    if quantidade <= 0:\n",
    "        print(\"Quantidade de temperaturas inválida!\")\n",
    "\n",
    "soma = 0.0\n",
    "temperaturas = []\n",
    "\n",
    "for i in range(quantidade):\n",
    "    temperatura = float(input(f\"Informe a {i + 1}ª temperatura: \"))\n",
    "    temperaturas.append(temperatura)\n",
    "    soma += temperatura\n",
    "\n",
    "print(\"A maior temperatura é:\", max(temperaturas))\n",
    "print(\"A menor temperatura é:\", min(temperaturas))\n",
    "print(\"A média das temperaturas é:\", (soma / quantidade))\n"
   ]
  }
 ],
 "metadata": {
  "colab": {
   "provenance": []
  },
  "kernelspec": {
   "display_name": "Python [conda env:base] *",
   "language": "python",
   "name": "conda-base-py"
  },
  "language_info": {
   "codemirror_mode": {
    "name": "ipython",
    "version": 3
   },
   "file_extension": ".py",
   "mimetype": "text/x-python",
   "name": "python",
   "nbconvert_exporter": "python",
   "pygments_lexer": "ipython3",
   "version": "3.12.7"
  }
 },
 "nbformat": 4,
 "nbformat_minor": 4
}
