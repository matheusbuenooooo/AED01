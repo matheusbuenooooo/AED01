{
 "cells": [
  {
   "cell_type": "code",
   "execution_count": 41,
   "id": "da99bd08-c10a-4deb-a025-be45ac122762",
   "metadata": {},
   "outputs": [
    {
     "name": "stdin",
     "output_type": "stream",
     "text": [
      "Digite um número:  3\n"
     ]
    },
    {
     "name": "stdout",
     "output_type": "stream",
     "text": [
      "Esse número é impar!\n"
     ]
    }
   ],
   "source": [
    "numero = int(input(\"Digite um número: \"))\n",
    "\n",
    "if numero % 2 == 0:\n",
    "    print(\"Esse número é par!\")\n",
    "else:\n",
    "    print(\"Esse número é impar!\")"
   ]
  },
  {
   "cell_type": "code",
   "execution_count": 47,
   "id": "fe8031b2-1f5e-4cf7-a4fc-10d8dc4bb014",
   "metadata": {},
   "outputs": [
    {
     "name": "stdin",
     "output_type": "stream",
     "text": [
      "Digite o primeiro número:  10\n",
      "Digite o segundo número:  5\n"
     ]
    },
    {
     "name": "stdout",
     "output_type": "stream",
     "text": [
      "O maior número é  10.0\n"
     ]
    }
   ],
   "source": [
    "numero1 = float(input(\"Digite o primeiro número: \"))\n",
    "numero2 = float(input(\"Digite o segundo número: \"))                \n",
    "\n",
    "if numero1 > numero2:\n",
    "    print(\"O maior número é \", numero1)\n",
    "\n",
    "else:\n",
    "    print(\"O maior número é \", numero2)"
   ]
  },
  {
   "cell_type": "code",
   "execution_count": 53,
   "id": "1e50edc2-9b50-49ec-a17d-b7b948e6a5a3",
   "metadata": {},
   "outputs": [
    {
     "name": "stdin",
     "output_type": "stream",
     "text": [
      "Digite o número:  2\n"
     ]
    },
    {
     "name": "stdout",
     "output_type": "stream",
     "text": [
      "Esse número é positivo!\n"
     ]
    }
   ],
   "source": [
    "numero = int(input(\"Digite o número: \"))\n",
    "\n",
    "if numero >= 0:\n",
    "    print(\"Esse número é positivo!\")\n",
    "\n",
    "else:\n",
    "    print(\"Esse número é negativo!\")"
   ]
  },
  {
   "cell_type": "code",
   "execution_count": 59,
   "id": "f55f32ca-749b-4c70-a87e-9ec2351d83e1",
   "metadata": {},
   "outputs": [
    {
     "name": "stdin",
     "output_type": "stream",
     "text": [
      "Digite uma letra:  l\n"
     ]
    },
    {
     "name": "stdout",
     "output_type": "stream",
     "text": [
      "É uma consoante!\n"
     ]
    }
   ],
   "source": [
    "letra = str(input(\"Digite uma letra: \"))\n",
    "\n",
    "if letra in \"aeiou\":\n",
    "    print(\"É uma vogal!\")\n",
    "\n",
    "else:\n",
    "    print(\"É uma consoante!\")"
   ]
  },
  {
   "cell_type": "code",
   "execution_count": null,
   "id": "59d3c2a5-af0b-4fb6-a587-7d7a1be272de",
   "metadata": {},
   "outputs": [],
   "source": []
  },
  {
   "cell_type": "code",
   "execution_count": 67,
   "id": "8f6710b0-b5ba-47d8-8bc7-a5be542c46a3",
   "metadata": {},
   "outputs": [
    {
     "name": "stdin",
     "output_type": "stream",
     "text": [
      "Digite o preço do produto 1:  10\n",
      "Digite o preço do produto 2:  8\n",
      "Digite o preço do produto 3:  9\n"
     ]
    },
    {
     "name": "stdout",
     "output_type": "stream",
     "text": [
      "O produto 2 é o mais barato, por isso deve ser comprado!\n"
     ]
    }
   ],
   "source": [
    "produto1 = float(input(\"Digite o preço do produto 1: \"))\n",
    "produto2 = float(input(\"Digite o preço do produto 2: \"))\n",
    "produto3 = float(input(\"Digite o preço do produto 3: \"))                 \n",
    "\n",
    "if produto1 < produto2 and produto1 < produto3:\n",
    "    print(\"O produto 1 é o mais barato, por isso deve ser comprado!\")\n",
    "\n",
    "elif produto2 < produto1 and produto2 < produto3:\n",
    "    print(\"O produto 2 é o mais barato, por isso deve ser comprado!\")\n",
    "\n",
    "else:\n",
    "    print(\"O produto 3 é o mais barato, por isso deve ser comprado!\")"
   ]
  },
  {
   "cell_type": "code",
   "execution_count": 101,
   "id": "f0f73eee-1a9e-4d7b-826f-93a730ec4db2",
   "metadata": {},
   "outputs": [
    {
     "name": "stdin",
     "output_type": "stream",
     "text": [
      "Digite a primeira letra do período que você estuda:  f\n"
     ]
    },
    {
     "name": "stdout",
     "output_type": "stream",
     "text": [
      "Letra inválida!\n"
     ]
    }
   ],
   "source": [
    "periodo = str(input(\"Digite a primeira letra do período que você estuda: \"))\n",
    "\n",
    "if periodo == \"M\":\n",
    "    print(\"Bom dia!\")\n",
    "\n",
    "elif periodo == \"V\":\n",
    "    print(\"Boa tarde\")\n",
    "\n",
    "elif periodo == \"N\":\n",
    "    print(\"Boa noite!\")\n",
    "\n",
    "else:\n",
    "    print(\"Letra inválida!\")"
   ]
  },
  {
   "cell_type": "code",
   "execution_count": null,
   "id": "fd4d2b2d-2617-4123-80c9-fa4a1f354239",
   "metadata": {},
   "outputs": [],
   "source": []
  }
 ],
 "metadata": {
  "kernelspec": {
   "display_name": "Python [conda env:base] *",
   "language": "python",
   "name": "conda-base-py"
  },
  "language_info": {
   "codemirror_mode": {
    "name": "ipython",
    "version": 3
   },
   "file_extension": ".py",
   "mimetype": "text/x-python",
   "name": "python",
   "nbconvert_exporter": "python",
   "pygments_lexer": "ipython3",
   "version": "3.12.7"
  }
 },
 "nbformat": 4,
 "nbformat_minor": 5
}
