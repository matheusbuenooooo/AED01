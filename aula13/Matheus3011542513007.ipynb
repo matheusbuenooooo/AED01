{
  "nbformat": 4,
  "nbformat_minor": 0,
  "metadata": {
    "colab": {
      "provenance": []
    },
    "kernelspec": {
      "name": "python3",
      "display_name": "Python 3"
    },
    "language_info": {
      "name": "python"
    }
  },
  "cells": [
    {
      "cell_type": "markdown",
      "source": [
        "Exercício 1:\n",
        "Crie um programa que recebe uma frase de entrada e a normaliza. A normalização deve transformar a\n",
        "frase para minúsculas, remover os espaços em excesso e substituir os espaços restantes por\n",
        "underscores (_)."
      ],
      "metadata": {
        "id": "8xWxmJ_is1xY"
      }
    },
    {
      "cell_type": "code",
      "source": [
        "frase = input(\"Digite uma frase: \")\n",
        "\n",
        "frase = frase.lower()\n",
        "\n",
        "frase = ' '.join(frase.split())\n",
        "\n",
        "frase = frase.replace(' ', '_')\n",
        "\n",
        "print(\"Frase normalizada:\", frase)"
      ],
      "metadata": {
        "colab": {
          "base_uri": "https://localhost:8080/"
        },
        "id": "KemE48Qbs3Hv",
        "outputId": "90d49744-e94c-40fb-d543-015710586837"
      },
      "execution_count": null,
      "outputs": [
        {
          "output_type": "stream",
          "name": "stdout",
          "text": [
            "Digite uma frase: matheus é legal\n",
            "Frase normalizada: matheus_é_legal\n"
          ]
        }
      ]
    },
    {
      "cell_type": "markdown",
      "source": [
        "Exercício 2:\n",
        "Dada uma lista pré-definida de vendas diárias, remova todas as vendas menores que R$ 100,00 e\n",
        "calcule a média das vendas restantes."
      ],
      "metadata": {
        "id": "alEl3yeauYNk"
      }
    },
    {
      "cell_type": "code",
      "source": [
        "lista_vendas = [1000, 250, 500, 75, 1200, 50]\n",
        "\n",
        "if len(lista_vendas) == 0:\n",
        "    print(\"A lista está vazia.\")\n",
        "else:\n",
        "    lista_vendas = [vendas for vendas in lista_vendas if vendas >= 100]\n",
        "    media_vendas = sum(lista_vendas) / len(lista_vendas)\n",
        "    print(\"Média das vendas restantes:\", media_vendas)"
      ],
      "metadata": {
        "colab": {
          "base_uri": "https://localhost:8080/"
        },
        "id": "dA_h62Q3uZbl",
        "outputId": "1a3341ed-c9a7-4c8c-8fc4-f3e8e8489139"
      },
      "execution_count": null,
      "outputs": [
        {
          "output_type": "stream",
          "name": "stdout",
          "text": [
            "Média das vendas restantes: 737.5\n"
          ]
        }
      ]
    },
    {
      "cell_type": "markdown",
      "source": [
        "Exercico 3: Crie um programa que recebe três coordenadas (x, y) como tuplas e calcula a distância média dos pontos a partir da origem (0, 0). Use a fórmula da distância Euclidiana."
      ],
      "metadata": {
        "id": "zJk239euvpmr"
      }
    },
    {
      "cell_type": "code",
      "source": [
        "cordenadas = int(input(\"Digite a quantidade de coordenadas: \"))\n",
        "\n",
        "lista_cordenadas = []\n",
        "\n",
        "for i in range(cordenadas):\n",
        "    x = int(input(\"Digite a coordenada x: \"))\n",
        "    y = int(input(\"Digite a coordenada y: \"))\n",
        "    lista_cordenadas.append((x, y))\n",
        "\n",
        "distancia_total = 0\n",
        "\n",
        "for cordenada in lista_cordenadas:\n",
        "    distancia = (cordenada[0] ** 2 + cordenada[1] ** 2) ** 0.5\n",
        "    distancia_total += distancia\n",
        "\n",
        "    media_distancia = distancia_total / cordenadas\n",
        "\n",
        "print(\"A distância média dos pontos é:\", media_distancia)"
      ],
      "metadata": {
        "id": "8y_pCsMnvqPe"
      },
      "execution_count": null,
      "outputs": []
    },
    {
      "cell_type": "markdown",
      "source": [
        "Exercício 4:\n",
        "Crie um programa que recebe uma frase de entrada e conta a frequência de cada palavra. O\n",
        "programa deve mostrar a contagem de cada palavra ao final."
      ],
      "metadata": {
        "id": "heiMHWUbxQWL"
      }
    },
    {
      "cell_type": "code",
      "source": [
        "frase = input(\"Digite uma frase: \")\n",
        "\n",
        "frase = frase.lower()\n",
        "\n",
        "palavras = frase.split()\n",
        "\n",
        "frequencia = {}\n",
        "for palavra in palavras:\n",
        "    if palavra in frequencia:\n",
        "        frequencia[palavra] += 1\n",
        "    else:\n",
        "        frequencia[palavra] = 1\n",
        "\n",
        "print(\"\\nFrequência de cada palavra:\")\n",
        "for palavra, contagem in frequencia.items():\n",
        "    print(f\"{palavra}: {contagem}\")\n"
      ],
      "metadata": {
        "colab": {
          "base_uri": "https://localhost:8080/"
        },
        "id": "xYYCBOzkxRgL",
        "outputId": "efcf0fe7-4eee-44e1-c33d-f6cb73b883b1"
      },
      "execution_count": null,
      "outputs": [
        {
          "output_type": "stream",
          "name": "stdout",
          "text": [
            "Digite uma frase: Matheus é aluno da Fatec de Votorantim!\n",
            "\n",
            "Frequência de cada palavra:\n",
            "matheus: 1\n",
            "é: 1\n",
            "aluno: 1\n",
            "da: 1\n",
            "fatec: 1\n",
            "de: 1\n",
            "votorantim!: 1\n"
          ]
        }
      ]
    }
  ]
}