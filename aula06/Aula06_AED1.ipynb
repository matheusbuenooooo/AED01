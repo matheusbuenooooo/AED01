{
  "cells": [
    {
      "cell_type": "markdown",
      "metadata": {
        "id": "PyK1arj9BL5y"
      },
      "source": [
        "![Algoritmos e Estrutura de Dados I](AED1_banner.jpg)"
      ]
    },
    {
      "cell_type": "markdown",
      "metadata": {
        "id": "0OfKTW4eBL52"
      },
      "source": [
        "## <font color='blue'>Algorítmos e Estrutura de Dados I</font>\n",
        "### <font color='blue'>Aula 06 - Estrutura Sequencial</font>"
      ]
    },
    {
      "cell_type": "code",
      "execution_count": null,
      "metadata": {
        "id": "u6fBKYRXBL54"
      },
      "outputs": [],
      "source": [
        "# Versão da Linguagem Python\n",
        "from platform import python_version\n",
        "print('Versão da Linguagem Python Usada Neste Jupyter Notebook:', python_version())"
      ]
    },
    {
      "cell_type": "markdown",
      "metadata": {
        "id": "Hk6plXSPBL55"
      },
      "source": [
        "#### Pressione as teclas shift e enter para executar o código em uma célula ou pressione o botão Run no menu superior."
      ]
    },
    {
      "cell_type": "markdown",
      "metadata": {
        "id": "aoA7fVJIBL56"
      },
      "source": [
        "## <font color='blue'>Recapitulando</font>"
      ]
    },
    {
      "cell_type": "markdown",
      "metadata": {
        "id": "ullmIYE4BL56"
      },
      "source": [
        "### Operações Aritméticas"
      ]
    },
    {
      "cell_type": "code",
      "execution_count": null,
      "metadata": {
        "id": "kuc4Rga9BL56"
      },
      "outputs": [],
      "source": [
        "# Soma\n",
        "4 + 4"
      ]
    },
    {
      "cell_type": "code",
      "execution_count": null,
      "metadata": {
        "id": "US5oZ9r_BL57"
      },
      "outputs": [],
      "source": [
        "# Subtração\n",
        "4 - 3"
      ]
    },
    {
      "cell_type": "code",
      "execution_count": null,
      "metadata": {
        "id": "BP-hKGkGBL57"
      },
      "outputs": [],
      "source": [
        "# Multiplicação\n",
        "3 * 3"
      ]
    },
    {
      "cell_type": "code",
      "execution_count": null,
      "metadata": {
        "id": "9ORXqnG8BL58"
      },
      "outputs": [],
      "source": [
        "# Divisão\n",
        "3 / 2"
      ]
    },
    {
      "cell_type": "code",
      "execution_count": null,
      "metadata": {
        "id": "EgNdSUHfBL58"
      },
      "outputs": [],
      "source": [
        "# Potência\n",
        "4 ** 2"
      ]
    },
    {
      "cell_type": "code",
      "execution_count": null,
      "metadata": {
        "id": "ZUwQ9h2vBL58"
      },
      "outputs": [],
      "source": [
        "# Módulo\n",
        "10 % 3"
      ]
    },
    {
      "cell_type": "markdown",
      "metadata": {
        "id": "9zT40TrLBL59"
      },
      "source": [
        "### Função Type"
      ]
    },
    {
      "cell_type": "code",
      "execution_count": null,
      "metadata": {
        "id": "bpapFqfqBL59"
      },
      "outputs": [],
      "source": [
        "type(5)"
      ]
    },
    {
      "cell_type": "code",
      "execution_count": null,
      "metadata": {
        "id": "75WCHHNHBL59"
      },
      "outputs": [],
      "source": [
        "type(5.0)"
      ]
    },
    {
      "cell_type": "code",
      "execution_count": null,
      "metadata": {
        "id": "_N1aJ-RNBL5-"
      },
      "outputs": [],
      "source": [
        "a = 'Estou estudando na Fatec Votorantim'\n",
        "type(a)"
      ]
    },
    {
      "cell_type": "markdown",
      "metadata": {
        "id": "I2riaBTyBL5-"
      },
      "source": [
        "### Operações com Números Float"
      ]
    },
    {
      "cell_type": "code",
      "execution_count": null,
      "metadata": {
        "id": "wJGu_0JmBL5-"
      },
      "outputs": [],
      "source": [
        "3.1 + 6.4"
      ]
    },
    {
      "cell_type": "code",
      "execution_count": null,
      "metadata": {
        "id": "DvVkGnFHBL5_"
      },
      "outputs": [],
      "source": [
        "4 + 4.0"
      ]
    },
    {
      "cell_type": "code",
      "execution_count": null,
      "metadata": {
        "id": "k9V9DiCrBL5_"
      },
      "outputs": [],
      "source": [
        "4 + 4"
      ]
    },
    {
      "cell_type": "code",
      "execution_count": null,
      "metadata": {
        "id": "-0uJ94ziBL5_"
      },
      "outputs": [],
      "source": [
        "# Resultado é um número float\n",
        "4 / 2"
      ]
    },
    {
      "cell_type": "code",
      "execution_count": null,
      "metadata": {
        "id": "FBLEcbw1BL5_"
      },
      "outputs": [],
      "source": [
        "# Resultado é um número inteiro\n",
        "4 // 2"
      ]
    },
    {
      "cell_type": "code",
      "execution_count": null,
      "metadata": {
        "id": "omJuFJvLBL6A"
      },
      "outputs": [],
      "source": [
        "4 / 3.0"
      ]
    },
    {
      "cell_type": "code",
      "execution_count": null,
      "metadata": {
        "id": "sIZmxPh5BL6A"
      },
      "outputs": [],
      "source": [
        "4 // 3.0"
      ]
    },
    {
      "cell_type": "markdown",
      "metadata": {
        "id": "WYWLkFLXBL6A"
      },
      "source": [
        "### Conversão"
      ]
    },
    {
      "cell_type": "code",
      "execution_count": null,
      "metadata": {
        "id": "McCYSZW-BL6A"
      },
      "outputs": [],
      "source": [
        "float(9)"
      ]
    },
    {
      "cell_type": "code",
      "execution_count": null,
      "metadata": {
        "id": "RgatUi-lBL6B"
      },
      "outputs": [],
      "source": [
        "int(6.0)"
      ]
    },
    {
      "cell_type": "code",
      "execution_count": null,
      "metadata": {
        "id": "wC3_023SBL6B"
      },
      "outputs": [],
      "source": [
        "int(6.5)"
      ]
    },
    {
      "cell_type": "code",
      "execution_count": null,
      "metadata": {
        "id": "OlBKoS07BL6B"
      },
      "outputs": [],
      "source": [
        "int(6.6)"
      ]
    },
    {
      "cell_type": "code",
      "execution_count": null,
      "metadata": {
        "id": "TcExljy3BL6B"
      },
      "outputs": [],
      "source": [
        "round(6.5)"
      ]
    },
    {
      "cell_type": "code",
      "execution_count": null,
      "metadata": {
        "id": "iZOG6z4jBL6C"
      },
      "outputs": [],
      "source": [
        "round(6.6)"
      ]
    },
    {
      "cell_type": "markdown",
      "metadata": {
        "id": "i6AOBzalBL6C"
      },
      "source": [
        "### Hexadecimal e Binário"
      ]
    },
    {
      "cell_type": "code",
      "execution_count": null,
      "metadata": {
        "id": "vI44ljeMBL6C"
      },
      "outputs": [],
      "source": [
        "hex(394)"
      ]
    },
    {
      "cell_type": "code",
      "execution_count": null,
      "metadata": {
        "id": "_PVmDes_BL6D"
      },
      "outputs": [],
      "source": [
        "hex(217)"
      ]
    },
    {
      "cell_type": "code",
      "execution_count": null,
      "metadata": {
        "id": "y5CL858EBL6D"
      },
      "outputs": [],
      "source": [
        "bin(286)"
      ]
    },
    {
      "cell_type": "code",
      "execution_count": null,
      "metadata": {
        "id": "SrY9HorsBL6D"
      },
      "outputs": [],
      "source": [
        "bin(390)"
      ]
    },
    {
      "cell_type": "markdown",
      "metadata": {
        "id": "_-7aoNs5BL6E"
      },
      "source": [
        "### Funções abs, round e pow"
      ]
    },
    {
      "cell_type": "code",
      "execution_count": null,
      "metadata": {
        "id": "AzFsBB-8BL6E"
      },
      "outputs": [],
      "source": [
        "# Retorna o valor absoluto\n",
        "abs(-8)"
      ]
    },
    {
      "cell_type": "code",
      "execution_count": null,
      "metadata": {
        "id": "CjIAkcbyBL6E"
      },
      "outputs": [],
      "source": [
        "# Retorna o valor absoluto\n",
        "abs(8)"
      ]
    },
    {
      "cell_type": "code",
      "execution_count": null,
      "metadata": {
        "id": "Bw5sdQALBL6V"
      },
      "outputs": [],
      "source": [
        "# Retorna o valor com duas casas decimais\n",
        "round(3.14151922, 2)"
      ]
    },
    {
      "cell_type": "code",
      "execution_count": null,
      "metadata": {
        "id": "GHoZmurjBL6W"
      },
      "outputs": [],
      "source": [
        "# Potência\n",
        "pow(4,2)"
      ]
    },
    {
      "cell_type": "code",
      "execution_count": null,
      "metadata": {
        "id": "hOmTcRitBL6W"
      },
      "outputs": [],
      "source": [
        "# Potência\n",
        "pow(5,3)"
      ]
    },
    {
      "cell_type": "markdown",
      "metadata": {
        "id": "RoYBh6FHBL6Y"
      },
      "source": [
        "### Trabalhando com Variáveis"
      ]
    },
    {
      "cell_type": "code",
      "execution_count": null,
      "metadata": {
        "id": "NCu5G-V6BL6Z"
      },
      "outputs": [],
      "source": [
        "# Atribuindo o valor 1 à variável var_teste\n",
        "var_teste = 1"
      ]
    },
    {
      "cell_type": "code",
      "execution_count": null,
      "metadata": {
        "id": "di01nuMUBL6a"
      },
      "outputs": [],
      "source": [
        "# Imprimindo o valor da variável\n",
        "var_teste"
      ]
    },
    {
      "cell_type": "code",
      "execution_count": null,
      "metadata": {
        "id": "qaHXE5qqBL6a"
      },
      "outputs": [],
      "source": [
        "# Imprimindo o valor da variável\n",
        "print(var_teste)"
      ]
    },
    {
      "cell_type": "code",
      "execution_count": null,
      "metadata": {
        "id": "wrfI3n3xBL6a"
      },
      "outputs": [],
      "source": [
        "# Não podemos utilizar uma variável que não foi definida. Leia a mensagem de erro.\n",
        "my_var"
      ]
    },
    {
      "cell_type": "code",
      "execution_count": null,
      "metadata": {
        "id": "o8cwfQAOBL6b"
      },
      "outputs": [],
      "source": [
        "var_teste = 2"
      ]
    },
    {
      "cell_type": "code",
      "execution_count": null,
      "metadata": {
        "id": "eaHp90piBL6b"
      },
      "outputs": [],
      "source": [
        "var_teste"
      ]
    },
    {
      "cell_type": "code",
      "execution_count": null,
      "metadata": {
        "id": "5M_PgoWyBL6b"
      },
      "outputs": [],
      "source": [
        "type(var_teste)"
      ]
    },
    {
      "cell_type": "code",
      "execution_count": null,
      "metadata": {
        "id": "57p9DVTUBL6b"
      },
      "outputs": [],
      "source": [
        "var_teste = 9.5"
      ]
    },
    {
      "cell_type": "code",
      "execution_count": null,
      "metadata": {
        "id": "O1sd8d2pBL6c"
      },
      "outputs": [],
      "source": [
        "type(var_teste)"
      ]
    },
    {
      "cell_type": "code",
      "execution_count": null,
      "metadata": {
        "id": "vcosmr3uBL6c"
      },
      "outputs": [],
      "source": [
        "x = 1"
      ]
    },
    {
      "cell_type": "code",
      "execution_count": null,
      "metadata": {
        "id": "-IcZQT3DBL6c"
      },
      "outputs": [],
      "source": [
        "x"
      ]
    },
    {
      "cell_type": "markdown",
      "metadata": {
        "id": "uvtIOOclBL6d"
      },
      "source": [
        "### Declaração Múltipla"
      ]
    },
    {
      "cell_type": "code",
      "execution_count": null,
      "metadata": {
        "id": "Xi9Lk4RbBL6d"
      },
      "outputs": [],
      "source": [
        "pessoa1, pessoa2, pessoa3 = \"Bob\", \"Maria\", \"Ana\""
      ]
    },
    {
      "cell_type": "code",
      "execution_count": null,
      "metadata": {
        "id": "xfyOQ10CBL6d"
      },
      "outputs": [],
      "source": [
        "pessoa1"
      ]
    },
    {
      "cell_type": "code",
      "execution_count": null,
      "metadata": {
        "id": "1UxntxHiBL6e"
      },
      "outputs": [],
      "source": [
        "pessoa2"
      ]
    },
    {
      "cell_type": "code",
      "execution_count": null,
      "metadata": {
        "id": "BGkycHVMBL6e"
      },
      "outputs": [],
      "source": [
        "pessoa3"
      ]
    },
    {
      "cell_type": "code",
      "execution_count": null,
      "metadata": {
        "id": "U9_-Jo-OBL6e"
      },
      "outputs": [],
      "source": [
        "fruta1 = fruta2 = fruta3 = \"Melancia\""
      ]
    },
    {
      "cell_type": "code",
      "execution_count": null,
      "metadata": {
        "id": "Bw2jxQfpBL6e"
      },
      "outputs": [],
      "source": [
        "fruta1"
      ]
    },
    {
      "cell_type": "code",
      "execution_count": null,
      "metadata": {
        "id": "L8sfS0oDBL6f"
      },
      "outputs": [],
      "source": [
        "fruta2"
      ]
    },
    {
      "cell_type": "code",
      "execution_count": null,
      "metadata": {
        "id": "F6VE761YBL6f"
      },
      "outputs": [],
      "source": [
        "fruta3"
      ]
    },
    {
      "cell_type": "code",
      "execution_count": null,
      "metadata": {
        "id": "-fy1uv71BL6f"
      },
      "outputs": [],
      "source": [
        "# Fique atento!!! Python é case-sensitive. Criamos a variável fruta2, mas não a variável Fruta2.\n",
        "# Letras maiúsculas e minúsculas tem diferença no nome da variável.\n",
        "Fruta2"
      ]
    },
    {
      "cell_type": "markdown",
      "metadata": {
        "id": "c_l1ydktBL6f"
      },
      "source": [
        "> Pode-se usar letras, números e underline em nome de variável (mas não se pode começar com números)."
      ]
    },
    {
      "cell_type": "code",
      "execution_count": null,
      "metadata": {
        "id": "30O1_uSvBL6g"
      },
      "outputs": [],
      "source": [
        "x1 = 50"
      ]
    },
    {
      "cell_type": "code",
      "execution_count": null,
      "metadata": {
        "id": "m1b5zypcBL6g"
      },
      "outputs": [],
      "source": [
        "x1"
      ]
    },
    {
      "cell_type": "code",
      "execution_count": null,
      "metadata": {
        "id": "6q6oHdImBL6g"
      },
      "outputs": [],
      "source": [
        "# Mensagem de erro, pois a linguagem Python não permite nomes de variáveis que iniciem com números\n",
        "1x = 50"
      ]
    },
    {
      "cell_type": "markdown",
      "metadata": {
        "id": "GSqhGwSaBL6h"
      },
      "source": [
        "> Não se pode usar palavras reservadas como nome de variável\n",
        "\n",
        "- False      \n",
        "- class      \n",
        "- finally    \n",
        "- is         \n",
        "- return\n",
        "- None       \n",
        "- continue   \n",
        "- for        \n",
        "- lambda     \n",
        "- try\n",
        "- True       \n",
        "- def        \n",
        "- from       \n",
        "- nonlocal   \n",
        "- while\n",
        "- and        \n",
        "- del        \n",
        "- global     \n",
        "- not        \n",
        "- with\n",
        "- as         \n",
        "- elif       \n",
        "- if         \n",
        "- or         \n",
        "- yield\n",
        "- assert     \n",
        "- else       \n",
        "- import     \n",
        "- pass\n",
        "- break      \n",
        "- except     \n",
        "- in         \n",
        "- raise"
      ]
    },
    {
      "cell_type": "code",
      "execution_count": null,
      "metadata": {
        "id": "ytZvVKv3BL6h"
      },
      "outputs": [],
      "source": [
        "# Não podemos usar palavras reservadas como nome de variável\n",
        "break = 1"
      ]
    },
    {
      "cell_type": "markdown",
      "metadata": {
        "id": "Q5xh-TKYBL6h"
      },
      "source": [
        "### Variáveis Atribuídas a Outras Variáveis e Ordem dos Operadores"
      ]
    },
    {
      "cell_type": "code",
      "execution_count": null,
      "metadata": {
        "id": "-U7gejCCBL6h"
      },
      "outputs": [],
      "source": [
        "largura = 2"
      ]
    },
    {
      "cell_type": "code",
      "execution_count": null,
      "metadata": {
        "id": "2919S6OuBL6i"
      },
      "outputs": [],
      "source": [
        "altura = 4"
      ]
    },
    {
      "cell_type": "code",
      "execution_count": null,
      "metadata": {
        "id": "F8swtMx5BL6i"
      },
      "outputs": [],
      "source": [
        "area = largura * altura"
      ]
    },
    {
      "cell_type": "code",
      "execution_count": null,
      "metadata": {
        "id": "3JWskMteBL6i"
      },
      "outputs": [],
      "source": [
        "area"
      ]
    },
    {
      "cell_type": "code",
      "execution_count": null,
      "metadata": {
        "id": "kKquArpUBL6i"
      },
      "outputs": [],
      "source": [
        "perimetro = 2 * largura + 2 * altura"
      ]
    },
    {
      "cell_type": "code",
      "execution_count": null,
      "metadata": {
        "id": "gLsDQxNIBL6j"
      },
      "outputs": [],
      "source": [
        "perimetro"
      ]
    },
    {
      "cell_type": "code",
      "execution_count": null,
      "metadata": {
        "id": "2fvhstZ5BL6j"
      },
      "outputs": [],
      "source": [
        "# A ordem dos operadores é a mesma seguida na Matemática\n",
        "perimetro = 2 * (largura + 2)  * altura"
      ]
    },
    {
      "cell_type": "code",
      "execution_count": null,
      "metadata": {
        "id": "x_OpD8nNBL6j"
      },
      "outputs": [],
      "source": [
        "perimetro"
      ]
    },
    {
      "cell_type": "markdown",
      "metadata": {
        "id": "tDtM1srbBL6j"
      },
      "source": [
        "### Operações com Variáveis"
      ]
    },
    {
      "cell_type": "code",
      "execution_count": null,
      "metadata": {
        "id": "O1atVbPKBL6k"
      },
      "outputs": [],
      "source": [
        "idade1 = 25"
      ]
    },
    {
      "cell_type": "code",
      "execution_count": null,
      "metadata": {
        "id": "53beR_PJBL6k"
      },
      "outputs": [],
      "source": [
        "idade2 = 35"
      ]
    },
    {
      "cell_type": "code",
      "execution_count": null,
      "metadata": {
        "id": "fiJlclP_BL6k"
      },
      "outputs": [],
      "source": [
        "idade1 + idade2"
      ]
    },
    {
      "cell_type": "code",
      "execution_count": null,
      "metadata": {
        "id": "XOUi0rLUBL6l"
      },
      "outputs": [],
      "source": [
        "idade2 - idade1"
      ]
    },
    {
      "cell_type": "code",
      "execution_count": null,
      "metadata": {
        "id": "Nvrakc-cBL6l"
      },
      "outputs": [],
      "source": [
        "idade2 * idade1"
      ]
    },
    {
      "cell_type": "code",
      "execution_count": null,
      "metadata": {
        "id": "9HPZbSRnBL6l"
      },
      "outputs": [],
      "source": [
        "idade2 / idade1"
      ]
    },
    {
      "cell_type": "code",
      "execution_count": null,
      "metadata": {
        "id": "LT3qSr5bBL6m"
      },
      "outputs": [],
      "source": [
        "idade2 % idade1"
      ]
    },
    {
      "cell_type": "markdown",
      "metadata": {
        "id": "vuCFec_XBL6m"
      },
      "source": [
        "### Concatenação de Variáveis"
      ]
    },
    {
      "cell_type": "code",
      "execution_count": null,
      "metadata": {
        "id": "f6ND_HtTBL6m"
      },
      "outputs": [],
      "source": [
        "nome = \"Bob\""
      ]
    },
    {
      "cell_type": "code",
      "execution_count": null,
      "metadata": {
        "id": "AlifQvQABL6m"
      },
      "outputs": [],
      "source": [
        "sobrenome = \"Marley\""
      ]
    },
    {
      "cell_type": "code",
      "execution_count": null,
      "metadata": {
        "id": "_ic-hLQBBL6n"
      },
      "outputs": [],
      "source": [
        "fullName = nome + \" \" + sobrenome"
      ]
    },
    {
      "cell_type": "code",
      "execution_count": null,
      "metadata": {
        "id": "_5smuPKBBL6n"
      },
      "outputs": [],
      "source": [
        "fullName"
      ]
    },
    {
      "cell_type": "code",
      "execution_count": null,
      "metadata": {
        "id": "-MVyYsDLBL6n"
      },
      "outputs": [],
      "source": []
    },
    {
      "cell_type": "markdown",
      "metadata": {
        "id": "J09-Pt88BL6n"
      },
      "source": [
        "### Criando uma String\n",
        "\n",
        "Para criar uma string em Python você pode usar aspas simples ou duplas. Por exemplo:"
      ]
    },
    {
      "cell_type": "code",
      "execution_count": null,
      "metadata": {
        "id": "dGNTyI8BBL6o"
      },
      "outputs": [],
      "source": [
        "# Uma única palavra\n",
        "'Oi'"
      ]
    },
    {
      "cell_type": "code",
      "execution_count": null,
      "metadata": {
        "id": "Z9-q3577BL6p"
      },
      "outputs": [],
      "source": [
        "# Uma frase\n",
        "'Criando uma string em Python'"
      ]
    },
    {
      "cell_type": "code",
      "execution_count": null,
      "metadata": {
        "id": "xu7j8UPSBL6p"
      },
      "outputs": [],
      "source": [
        "# Podemos usar aspas duplas\n",
        "\"Podemos usar aspas duplas ou simples para strings em Python\""
      ]
    },
    {
      "cell_type": "code",
      "execution_count": null,
      "metadata": {
        "id": "X-_p3RTUBL6p"
      },
      "outputs": [],
      "source": [
        "# Você pode combinar aspas duplas e simples\n",
        "\"Testando strings em 'Python'\""
      ]
    },
    {
      "cell_type": "markdown",
      "metadata": {
        "id": "xeGh3uznBL6q"
      },
      "source": [
        "### Imprimindo uma String"
      ]
    },
    {
      "cell_type": "code",
      "execution_count": null,
      "metadata": {
        "id": "epKsInHHBL6q"
      },
      "outputs": [],
      "source": [
        "print ('Testando Strings em Python')"
      ]
    },
    {
      "cell_type": "code",
      "execution_count": null,
      "metadata": {
        "id": "KRKYoox2BL6q"
      },
      "outputs": [],
      "source": [
        "print ('Testando \\n Strings \\n em \\n Python')"
      ]
    },
    {
      "cell_type": "code",
      "execution_count": null,
      "metadata": {
        "scrolled": true,
        "id": "m1zRR-DBBL6r"
      },
      "outputs": [],
      "source": [
        "print ('\\n')"
      ]
    },
    {
      "cell_type": "markdown",
      "metadata": {
        "id": "OEc9LH4LBL6r"
      },
      "source": [
        "### Indexando Strings"
      ]
    },
    {
      "cell_type": "code",
      "execution_count": null,
      "metadata": {
        "id": "0huafVWYBL6r"
      },
      "outputs": [],
      "source": [
        "# Atribuindo uma string\n",
        "s = 'Projet pyPRO'"
      ]
    },
    {
      "cell_type": "code",
      "execution_count": null,
      "metadata": {
        "id": "ImLQubdZBL6s"
      },
      "outputs": [],
      "source": [
        "print(s)"
      ]
    },
    {
      "cell_type": "markdown",
      "metadata": {
        "id": "94g1_wRCBL6s"
      },
      "source": [
        "> Indexação em Python começar por zero."
      ]
    },
    {
      "cell_type": "code",
      "execution_count": null,
      "metadata": {
        "id": "uAa8qngMBL6s"
      },
      "outputs": [],
      "source": [
        "# Primeiro elemento da string\n",
        "s[0]"
      ]
    },
    {
      "cell_type": "code",
      "execution_count": null,
      "metadata": {
        "id": "3RsBLTEyBL6t"
      },
      "outputs": [],
      "source": [
        "s[1]"
      ]
    },
    {
      "cell_type": "code",
      "execution_count": null,
      "metadata": {
        "id": "r431laEmBL6t"
      },
      "outputs": [],
      "source": [
        "s[2]"
      ]
    },
    {
      "cell_type": "code",
      "execution_count": null,
      "metadata": {
        "id": "VjsTnqr-BL6t"
      },
      "outputs": [],
      "source": [
        "s[3]"
      ]
    },
    {
      "cell_type": "code",
      "execution_count": null,
      "metadata": {
        "id": "PUcalWzjBL6u"
      },
      "outputs": [],
      "source": [
        "s[4]"
      ]
    },
    {
      "cell_type": "markdown",
      "metadata": {
        "id": "mzTzavfVBL6u"
      },
      "source": [
        "Podemos usar um : para executar um slicing que faz a leitura de tudo até um ponto designado. Por exemplo:"
      ]
    },
    {
      "cell_type": "code",
      "execution_count": null,
      "metadata": {
        "id": "Dyl-wz5JBL6u"
      },
      "outputs": [],
      "source": [
        "# Retorna todos os elementos da string, começando pela posição\n",
        "# (lembre-se que Python começa a indexação pela posição 0),\n",
        "# até o fim da string.\n",
        "s[1:]"
      ]
    },
    {
      "cell_type": "code",
      "execution_count": null,
      "metadata": {
        "id": "qfbsgXNuBL6v"
      },
      "outputs": [],
      "source": [
        "# A string original permanece inalterada\n",
        "s"
      ]
    },
    {
      "cell_type": "code",
      "execution_count": null,
      "metadata": {
        "id": "6VVu6RyYBL6v"
      },
      "outputs": [],
      "source": [
        "# Retorna tudo até a posição de índice 3\n",
        "s[:3]"
      ]
    },
    {
      "cell_type": "code",
      "execution_count": null,
      "metadata": {
        "id": "Yz5Zb8w9BL6w"
      },
      "outputs": [],
      "source": [
        "# Retorna tudo até a posição de índice 4\n",
        "s[:4]"
      ]
    },
    {
      "cell_type": "code",
      "execution_count": null,
      "metadata": {
        "id": "yQ69iJy_BL6w"
      },
      "outputs": [],
      "source": [
        "# Nós também podemos usar a indexação negativa e ler de trás para frente\n",
        "s[-1]"
      ]
    },
    {
      "cell_type": "code",
      "execution_count": null,
      "metadata": {
        "id": "4UR-Z2fwBL6w"
      },
      "outputs": [],
      "source": [
        "# Retornar tudo, exceto a última letra\n",
        "s[:-1]"
      ]
    },
    {
      "cell_type": "markdown",
      "metadata": {
        "id": "aoZkzQSiBL6x"
      },
      "source": [
        "Nós também podemos usar a notação de índice e fatiar a string em pedaços específicos (o padrão é 1).\n",
        "\n",
        "Por exemplo, podemos usar dois pontos duas vezes em uma linha e, em seguida, um número que especifica a frequência para retornar elementos."
      ]
    },
    {
      "cell_type": "code",
      "execution_count": null,
      "metadata": {
        "id": "iyeudpglBL6y"
      },
      "outputs": [],
      "source": [
        "s[::1]"
      ]
    },
    {
      "cell_type": "code",
      "execution_count": null,
      "metadata": {
        "id": "DgvZQuJ1BL6y"
      },
      "outputs": [],
      "source": [
        "s[::2]"
      ]
    },
    {
      "cell_type": "code",
      "execution_count": null,
      "metadata": {
        "id": "9tsDOVbfBL6y"
      },
      "outputs": [],
      "source": [
        "s[::-1]"
      ]
    },
    {
      "cell_type": "markdown",
      "metadata": {
        "id": "4mECA8MTBL6z"
      },
      "source": [
        "### Propriedades de Strings"
      ]
    },
    {
      "cell_type": "code",
      "execution_count": null,
      "metadata": {
        "id": "StSP7rMCBL6z"
      },
      "outputs": [],
      "source": [
        "s"
      ]
    },
    {
      "cell_type": "code",
      "execution_count": null,
      "metadata": {
        "id": "cfqNtX6LBL6z"
      },
      "outputs": [],
      "source": [
        "# Alterando um caracter (não é possível alterar um elemento da string)\n",
        "s[0] = 'x'"
      ]
    },
    {
      "cell_type": "code",
      "execution_count": null,
      "metadata": {
        "id": "OwSAOw6sBL60"
      },
      "outputs": [],
      "source": [
        "# Concatenando strings\n",
        "s + ' é a melhor maneira de estar preparado para o mercado de trabalho em Ciência de Dados!'"
      ]
    },
    {
      "cell_type": "code",
      "execution_count": null,
      "metadata": {
        "id": "6HgTZBZ1BL61"
      },
      "outputs": [],
      "source": [
        "s = s + ' é a melhor maneira de estar preparado para o mercado de trabalho em Ciência de Dados!'"
      ]
    },
    {
      "cell_type": "code",
      "execution_count": null,
      "metadata": {
        "id": "o-tnyDJrBL61"
      },
      "outputs": [],
      "source": [
        "print(s)"
      ]
    },
    {
      "cell_type": "code",
      "execution_count": null,
      "metadata": {
        "id": "mf67KPxjBL61"
      },
      "outputs": [],
      "source": [
        "# Podemos usar o símbolo de multiplicação para criar repetição!\n",
        "letra = 'w'"
      ]
    },
    {
      "cell_type": "code",
      "execution_count": null,
      "metadata": {
        "id": "TkIpTaNjBL62"
      },
      "outputs": [],
      "source": [
        "letra * 3"
      ]
    },
    {
      "cell_type": "markdown",
      "metadata": {
        "id": "qXD2P2XHBL62"
      },
      "source": [
        "## <font color='blue'>Estrutura Sequencial</font>"
      ]
    },
    {
      "cell_type": "markdown",
      "metadata": {
        "id": "KulNZ1TtBL62"
      },
      "source": [
        "## Pseudocódigo 1 - Calcular a Área de Um Paralelograma\n",
        "\n",
        "Nota: Um paralelogramo é um quadrilátero com lados opostos paralelos (e portanto ângulos opostos iguais). Um quadrilátero com lados iguais é chamado de losango e um paralelogramo cujos ângulos são todos ângulos retos é chamado de retângulo."
      ]
    },
    {
      "cell_type": "markdown",
      "metadata": {
        "id": "jq3Gla6UBL62"
      },
      "source": [
        "Inicie\n",
        "    \n",
        "    Exiba \"Bem-vindo ao Calculador de Área de Paralelogramo\"\n",
        "    Peça para o usuário inserir o comprimento da base\n",
        "    Armazene o comprimento da base em uma variável\n",
        "    Peça para o usuário inserir a altura\n",
        "    Armazene a altura em uma variável\n",
        "    Calcule a área do paralelogramo:  base * altura\n",
        "    Armazene o resultado em uma variável\n",
        "    Exiba o resultado\n",
        "    \n",
        "Fim\n"
      ]
    },
    {
      "cell_type": "markdown",
      "metadata": {
        "id": "Thga8lMRBL62"
      },
      "source": [
        "## Convertendo o Pseudocódigo 1 em Programa Python"
      ]
    },
    {
      "cell_type": "code",
      "execution_count": null,
      "metadata": {
        "id": "irIYfL0oBL63"
      },
      "outputs": [],
      "source": [
        "print(\"Bem-vindo ao Calculador de Área de Paralelogramo\")"
      ]
    },
    {
      "cell_type": "code",
      "execution_count": null,
      "metadata": {
        "id": "9Z6nAeKjBL63"
      },
      "outputs": [],
      "source": [
        "base = float(input(\"Insira o comprimento da base: \"))"
      ]
    },
    {
      "cell_type": "code",
      "execution_count": null,
      "metadata": {
        "id": "lRTGtYvdBL63"
      },
      "outputs": [],
      "source": [
        "altura = float(input(\"Insira a altura: \"))"
      ]
    },
    {
      "cell_type": "code",
      "execution_count": null,
      "metadata": {
        "id": "PSEOvyc-BL63"
      },
      "outputs": [],
      "source": [
        "area = base * altura"
      ]
    },
    {
      "cell_type": "code",
      "execution_count": null,
      "metadata": {
        "id": "dsRo7HyNBL64"
      },
      "outputs": [],
      "source": [
        "print(\"A área do paralelogramo é: \", area)"
      ]
    },
    {
      "cell_type": "markdown",
      "metadata": {
        "id": "6h0JcPiZBL64"
      },
      "source": [
        "### EXEMPLO 01\n",
        "Calcular a área de um quadrilátero, com dois lados iguais. Para isso faz a leitura de dois números inteiros, representando os lados e imprime os valores lidos e a área calculada.\n",
        "\n",
        "base, altura, area representam os nomes das variáveis – podem ser do tipo inteiro ou do tipo real.\n"
      ]
    },
    {
      "cell_type": "code",
      "execution_count": null,
      "metadata": {
        "id": "aaPSOkNxBL_V"
      },
      "outputs": [],
      "source": [
        "base = float(input('Entre com a base:'))\n",
        "altura = float(input('Entre com a altura:'))\n",
        "area = base * altura\n",
        "print('A área é = ', area)"
      ]
    },
    {
      "cell_type": "markdown",
      "metadata": {
        "id": "3l5JKLjXBL_X"
      },
      "source": [
        "## EXEMPLO 02\n",
        "Ler a temperatura em °C e apresentar em °F.\n",
        "\n",
        "Dados : F=(9*C+160)/5."
      ]
    },
    {
      "cell_type": "code",
      "execution_count": null,
      "metadata": {
        "id": "RAwzXBEqBL_Y"
      },
      "outputs": [],
      "source": [
        "celsius = float(input(\"Entre com a temperatura em C:\"))\n",
        "fare = (9 * celsius + 160) / 5\n",
        "print(\"A temperatura em F = \", fare)"
      ]
    },
    {
      "cell_type": "code",
      "execution_count": null,
      "metadata": {
        "id": "B7qb7ePTBL_Z"
      },
      "outputs": [],
      "source": [
        "## EXEMPLO 03\n",
        "CALCULAR A DISTÂNCIA ENTRE 2 PONTOS."
      ]
    },
    {
      "cell_type": "markdown",
      "metadata": {
        "id": "dK_TmS3sBL_a"
      },
      "source": [
        "![Figura](exemplo03.JPG)"
      ]
    },
    {
      "cell_type": "code",
      "execution_count": null,
      "metadata": {
        "id": "tMEOalaLBL_a"
      },
      "outputs": [],
      "source": [
        "from math import pow, sqrt\n",
        "\n",
        "x1 = float(input(\"Entre com x1: \"))\n",
        "y1 = float(input(\"Entre com y1: \"))\n",
        "x2 = float(input(\"Entre com x2: \"))\n",
        "y2 = float(input(\"Entre com y2: \"))\n",
        "dx = x2 - x1\n",
        "dy = y2 - y1\n",
        "d = sqrt(pow(dx,2)+pow(dy,2))\n",
        "print(\"Distância = \", d)"
      ]
    },
    {
      "cell_type": "markdown",
      "metadata": {
        "id": "9b0bsjWIBL_b"
      },
      "source": [
        "## <font color='blue'>Exercícios</font>"
      ]
    },
    {
      "cell_type": "markdown",
      "metadata": {
        "id": "S2vZYdLhBL_b"
      },
      "source": [
        "1. Faça um programa para ler e escrever na tela o seu nome e a sua idade."
      ]
    },
    {
      "cell_type": "code",
      "execution_count": null,
      "metadata": {
        "id": "2IxCGp1DBL_c"
      },
      "outputs": [],
      "source": [
        "nome = str(input(\"Digite seu nome: \"))\n",
        "idade = int(input(\"Digite sua idade: \"))\n",
        "\n",
        "print(\"Seu nome é: \", nome)\n",
        "print(\"Sua idade é: \", idade)"
      ]
    },
    {
      "cell_type": "markdown",
      "metadata": {
        "id": "kea4p63NBL_c"
      },
      "source": [
        "2. Faça um programa para ler e escrever na tela o seu nome e a sua idade."
      ]
    },
    {
      "cell_type": "code",
      "execution_count": null,
      "metadata": {
        "id": "X0uuDt1KBL_d"
      },
      "outputs": [],
      "source": [
        "nome = str(input(\"Digite seu nome: \"))\n",
        "idade = int(input(\"Digite sua idade: \"))\n",
        "\n",
        "print(\"Seu nome é: \", nome)\n",
        "print(\"Sua idade é: \", idade)"
      ]
    },
    {
      "cell_type": "markdown",
      "metadata": {
        "id": "KJG3c8FeBL_e"
      },
      "source": [
        "3. Faça um algoritmo que receba o ano de nascimento de uma pessoa e o ano atual e mostre:\n",
        "A idade dessa pessoa em anos;\n",
        "A idade dessa pessoa em meses;\n",
        "A idade dessa pessoa em dias;\n",
        "A idade dessa pessoa em semanas."
      ]
    },
    {
      "cell_type": "code",
      "execution_count": null,
      "metadata": {
        "colab": {
          "base_uri": "https://localhost:8080/"
        },
        "id": "Fh61KyUMBL_f",
        "outputId": "6069d8c0-d223-4677-dd13-cdb29e6d8f98"
      },
      "outputs": [
        {
          "output_type": "stream",
          "name": "stdout",
          "text": [
            "Digite seu ano de nascimento: 2006\n",
            "Digite o ano atual: 2025\n",
            "Sua idade em anos é:  19\n",
            "Sua idade em meses é:  228\n",
            "Sua idade em dias é:  6935\n"
          ]
        }
      ],
      "source": [
        "ano_nascimento = int(input(\"Digite seu ano de nascimento: \"))\n",
        "ano_atual = int(input(\"Digite o ano atual: \"))\n",
        "\n",
        "idade = ano_atual - ano_nascimento\n",
        "\n",
        "anos = idade\n",
        "meses = idade * 12\n",
        "dias = idade * 365\n",
        "semanas = idade * 52\n",
        "\n",
        "print(\"Sua idade em anos é: \", anos)\n",
        "print(\"Sua idade em meses é: \", meses)\n",
        "print(\"Sua idade em dias é: \", dias)"
      ]
    },
    {
      "cell_type": "markdown",
      "metadata": {
        "id": "UrvitbXiBL_f"
      },
      "source": [
        "4. Faça um algoritmo que receba o salário de um funcionário, calcule e mostre o novo salário, sabendo-se que este sofreu um aumento de 25%."
      ]
    },
    {
      "cell_type": "code",
      "execution_count": null,
      "metadata": {
        "id": "gnKSZru1BL_g"
      },
      "outputs": [],
      "source": [
        "salario = float(input(\"Digite seu salário: \"))\n",
        "\n",
        "aumento = salario * 0.25\n",
        "\n",
        "novo_salario = salario + aumento\n",
        "\n",
        "print(\"Seu novo salário é: \", novo_salario)"
      ]
    },
    {
      "cell_type": "markdown",
      "metadata": {
        "id": "vMylRKuqBL_g"
      },
      "source": [
        "5. Faça um algoritmo que calcule e mostre a área de um círculo. Sabe-se que\n",
        "\tArea= π * R2\n",
        "\n",
        "\tπ = 3,115\n"
      ]
    },
    {
      "cell_type": "code",
      "execution_count": null,
      "metadata": {
        "id": "v9XUlMQhBL_i"
      },
      "outputs": [],
      "source": [
        "raio = float(input(\"Digite o raio do círculo: \"))\n",
        "\n",
        "area = 3.14 * (raio ** 2)\n",
        "\n",
        "print(\"A área do círculo é: \", area)"
      ]
    },
    {
      "cell_type": "markdown",
      "metadata": {
        "id": "43xk-YUuBL_i"
      },
      "source": [
        "6. Cada degrau de uma escada tem Xcm de altura. Faça um algoritmo que receba a altura de cada degrau em cm e a altura que o usuário deseja alcançar subindo a escada (em metros). Faça as conversões, calcule e mostre quantos degraus o usuário deverá subir para atingir seu objetivo.\n",
        "\n",
        "Obs: não se preocupe com a altura do usuário!"
      ]
    },
    {
      "cell_type": "code",
      "execution_count": null,
      "metadata": {
        "id": "AgtrJpyTBL_k"
      },
      "outputs": [],
      "source": []
    },
    {
      "cell_type": "markdown",
      "metadata": {
        "id": "Mj4e8zTRBL_l"
      },
      "source": [
        "## Fim da Aula 6"
      ]
    }
  ],
  "metadata": {
    "anaconda-cloud": {},
    "kernelspec": {
      "display_name": "Python 3 (ipykernel)",
      "language": "python",
      "name": "python3"
    },
    "language_info": {
      "codemirror_mode": {
        "name": "ipython",
        "version": 3
      },
      "file_extension": ".py",
      "mimetype": "text/x-python",
      "name": "python",
      "nbconvert_exporter": "python",
      "pygments_lexer": "ipython3",
      "version": "3.11.8"
    },
    "colab": {
      "provenance": []
    }
  },
  "nbformat": 4,
  "nbformat_minor": 0
}