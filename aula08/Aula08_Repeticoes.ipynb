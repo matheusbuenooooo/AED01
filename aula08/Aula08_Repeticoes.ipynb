{
  "cells": [
    {
      "cell_type": "markdown",
      "metadata": {
        "id": "HhWf-MgyI-wn"
      },
      "source": [
        "![Algoritmos e Estrutura de Dados I](AED1_banner.jpg)"
      ]
    },
    {
      "cell_type": "markdown",
      "metadata": {
        "id": "gWb2vHGHI-wu"
      },
      "source": [
        "## <font color='blue'>Algoritmos e Estrutura de Dados I</font>\n",
        "## <font color='blue'>Aula 8 -  Loop de Repetição - For e While</font>"
      ]
    },
    {
      "cell_type": "code",
      "execution_count": null,
      "metadata": {
        "id": "T4aBp8LGI-ww"
      },
      "outputs": [],
      "source": [
        "# Versão da Linguagem Python\n",
        "from platform import python_version\n",
        "print('Versão da Linguagem Python Usada Neste Jupyter Notebook:', python_version())"
      ]
    },
    {
      "cell_type": "markdown",
      "metadata": {
        "id": "3ge9ONGlI-wy"
      },
      "source": [
        "## Loop For"
      ]
    },
    {
      "cell_type": "markdown",
      "metadata": {
        "id": "nmBgA6o8I-wy"
      },
      "source": [
        "![For](for.jpg)"
      ]
    },
    {
      "cell_type": "code",
      "execution_count": null,
      "metadata": {
        "id": "QIIWGCJ8I-wy"
      },
      "outputs": [],
      "source": [
        "# Criando uma tupla e imprimindo cada um dos valores\n",
        "tp = (2,3,4)\n",
        "for i in tp:\n",
        "    print(i)"
      ]
    },
    {
      "cell_type": "code",
      "execution_count": null,
      "metadata": {
        "id": "OXzz_NvFI-wz"
      },
      "outputs": [],
      "source": [
        "# Criando uma lista e imprimindo cada um dos valores\n",
        "ListaDeStrings = [\"Curso\", \"Superior\", \"de Tecnologia\", \"em Ciência\", \"de Dados\"]\n",
        "for i in ListaDeStrings:\n",
        "    print(i)"
      ]
    },
    {
      "cell_type": "code",
      "execution_count": null,
      "metadata": {
        "id": "pNq6QAMkI-wz"
      },
      "outputs": [],
      "source": [
        "# Imprimindo os valores no intervalo entre 0 e 5 (exclusive)\n",
        "for contador in range(0,5):\n",
        "    print(contador)"
      ]
    },
    {
      "cell_type": "code",
      "execution_count": null,
      "metadata": {
        "id": "D1_Jxa57I-w0"
      },
      "outputs": [],
      "source": [
        "# Imprimindo os números pares da lista de números\n",
        "lista = [1,2,3,4,5,6,7,8,9,10]\n",
        "for num in lista:\n",
        "    if num % 2 == 0:\n",
        "        print (num)"
      ]
    },
    {
      "cell_type": "code",
      "execution_count": null,
      "metadata": {
        "id": "skdWOLWKI-w0"
      },
      "outputs": [],
      "source": [
        "# Listando os números no intervalo entre 0 e 101, com incremento em 2\n",
        "for i in range(0,101,2):\n",
        "    print(i)"
      ]
    },
    {
      "cell_type": "code",
      "execution_count": null,
      "metadata": {
        "id": "KYVXx1_jI-w0"
      },
      "outputs": [],
      "source": [
        "# Strings também são sequências\n",
        "for caracter in 'Eu vou dominar Python! E saber tudo sobre Ciência de Dados':\n",
        "    print (caracter)"
      ]
    },
    {
      "cell_type": "markdown",
      "metadata": {
        "id": "7bAR9WIbI-w1"
      },
      "source": [
        "## Loop For Aninhado"
      ]
    },
    {
      "cell_type": "code",
      "execution_count": null,
      "metadata": {
        "id": "MqA6scdiI-w1"
      },
      "outputs": [],
      "source": [
        "# Loops aninhados\n",
        "\n",
        "lista1 = [0,1,2,3,4]\n",
        "lista2 = [1,2,3]\n",
        "\n",
        "# Loop externo\n",
        "for elemento_lista1 in lista1:\n",
        "\n",
        "    # Loop interno\n",
        "    for elemento_lista2 in lista2:\n",
        "\n",
        "        print('\\n', elemento_lista1 * elemento_lista2)\n",
        "\n",
        "    print('----')"
      ]
    },
    {
      "cell_type": "code",
      "execution_count": null,
      "metadata": {
        "id": "9kG8NrhZI-w2"
      },
      "outputs": [],
      "source": [
        "# O número 47 aparece nas duas listas?\n",
        "\n",
        "lista1 = [10,16,24,39,47]\n",
        "lista2 = [32,89,47,76,12]\n",
        "\n",
        "# Loop externo\n",
        "for elemento_lista1 in lista1:\n",
        "\n",
        "    # Loop interno\n",
        "    for elemento_lista2 in lista2:\n",
        "\n",
        "        # Condicional\n",
        "        if elemento_lista1 == 47 and elemento_lista2 == 47:\n",
        "\n",
        "            print(\"O número 47 foi encontrado nas duas listas!\")"
      ]
    },
    {
      "cell_type": "code",
      "execution_count": null,
      "metadata": {
        "id": "xEAcnGreI-w2"
      },
      "outputs": [],
      "source": [
        "# Some os números pares da primeira lista com os números pares da segunda lista\n",
        "\n",
        "lista1 = [10,16,24,39,47]\n",
        "lista2 = [32,89,47,76,12]\n",
        "soma = 0\n",
        "\n",
        "# Loop externo\n",
        "for lista in [lista1, lista2]:\n",
        "\n",
        "    # Loop interno\n",
        "    for num in lista:\n",
        "\n",
        "        # Condicional\n",
        "        if num % 2 == 0:\n",
        "            soma += num\n",
        "\n",
        "print(\"O soma dos números pares das duas listas é igual a\", soma)"
      ]
    },
    {
      "cell_type": "code",
      "execution_count": null,
      "metadata": {
        "id": "WnU6heUgI-w3"
      },
      "outputs": [],
      "source": [
        "# Listas podem ser concatenadas em Python\n",
        "lista1 + lista2"
      ]
    },
    {
      "cell_type": "code",
      "execution_count": null,
      "metadata": {
        "id": "9DLCuw3II-w3"
      },
      "outputs": [],
      "source": [
        "# Some os números pares da primeira lista com os números pares da segunda lista\n",
        "\n",
        "lista1 = [10,16,24,39,47]\n",
        "lista2 = [32,89,47,76,12]\n",
        "soma = 0\n",
        "\n",
        "for num in lista1 + lista2:\n",
        "    if num % 2 == 0:\n",
        "        soma += num\n",
        "\n",
        "print(\"Soma dos valores pares:\", soma)"
      ]
    },
    {
      "cell_type": "code",
      "execution_count": null,
      "metadata": {
        "id": "HgAFPs65I-w3"
      },
      "outputs": [],
      "source": [
        "# Loop em lista de listas (matrizes) para encontrar o maior número\n",
        "\n",
        "matriz = [[42, 23, 34], [100, 215, 114], [10.1, 98.7, 12.3]]\n",
        "maior_numero = 0\n",
        "\n",
        "# Loop externo\n",
        "for linha in matriz:\n",
        "\n",
        "    # Loop interno\n",
        "    for num in linha:\n",
        "\n",
        "        # Condicional\n",
        "        if num > maior_numero:\n",
        "            maior_numero = num\n",
        "\n",
        "print(\"Maior número:\", maior_numero)"
      ]
    },
    {
      "cell_type": "code",
      "execution_count": null,
      "metadata": {
        "id": "wgKF1zQYI-w4"
      },
      "outputs": [],
      "source": [
        "# Listando as chaves de um dicionário\n",
        "dict = {'k1':'Python','k2':'R','k3':'Scala'}\n",
        "for item in dict:\n",
        "    print(item)"
      ]
    },
    {
      "cell_type": "code",
      "execution_count": null,
      "metadata": {
        "id": "XKDy3YnVI-w4"
      },
      "outputs": [],
      "source": [
        "# Imprimindo chave e valor do dicionário. Usando o método items() para retornar os itens de um dicionário\n",
        "for k,v in dict.items():\n",
        "    print (k,v)"
      ]
    },
    {
      "cell_type": "markdown",
      "metadata": {
        "id": "6hknD5idI-w4"
      },
      "source": [
        "## Loop While"
      ]
    },
    {
      "cell_type": "markdown",
      "metadata": {
        "id": "CmDZ_AKjI-w5"
      },
      "source": [
        "![While](while.jpg)"
      ]
    },
    {
      "cell_type": "code",
      "execution_count": null,
      "metadata": {
        "id": "n6jUHhE6I-w5"
      },
      "outputs": [],
      "source": [
        "# Usando o loop while para imprimir os valores de 0 a 9\n",
        "# A condição tem que deixar de ser verdadeira dentro do loop, senão pode travar o navegador ou mesmo o computador\n",
        "valor = 0\n",
        "while valor < 10:\n",
        "    print(valor)\n",
        "    valor = valor + 1"
      ]
    },
    {
      "cell_type": "code",
      "execution_count": null,
      "metadata": {
        "id": "yjaVaIGZI-w5"
      },
      "outputs": [],
      "source": [
        "# Entra no loop somente se a condição for verdadeira\n",
        "valor = 11\n",
        "while valor < 10:\n",
        "    print(v)\n",
        "    valor = valor + 1"
      ]
    },
    {
      "cell_type": "code",
      "execution_count": null,
      "metadata": {
        "id": "FZGeQNH4I-w5"
      },
      "outputs": [],
      "source": [
        "# Também é possível usar a claúsula else para encerrar o loop while\n",
        "x = 0\n",
        "\n",
        "while x < 10:\n",
        "    print ('O valor de x nesta iteração é: ', x)\n",
        "    print (' x ainda é menor que 10, somando 1 a x')\n",
        "    x += 1\n",
        "else:\n",
        "    print ('Loop concluído!')\n",
        "print(x)"
      ]
    },
    {
      "cell_type": "markdown",
      "metadata": {
        "id": "FMzZ_1gxI-w6"
      },
      "source": [
        "### Pass, Break, Continue"
      ]
    },
    {
      "cell_type": "code",
      "execution_count": null,
      "metadata": {
        "id": "cbOJURRXI-w6"
      },
      "outputs": [],
      "source": [
        "n=0\n",
        "while True:\n",
        "    print(\"O ultimo valor de n é \", n)\n",
        "    n = n + 1"
      ]
    },
    {
      "cell_type": "code",
      "execution_count": null,
      "metadata": {
        "id": "s5-a8kbHI-w6"
      },
      "outputs": [],
      "source": [
        "n=0\n",
        "while True:\n",
        "    print(\"O ultimo valor de n é \", n)\n",
        "    n = n + 1\n",
        "    if n>5:\n",
        "        break"
      ]
    },
    {
      "cell_type": "code",
      "execution_count": null,
      "metadata": {
        "id": "5-YNgiAOI-w6"
      },
      "outputs": [],
      "source": [
        "# Se encontramos o número 4 interrompemos o loop\n",
        "valor = 0\n",
        "while valor < 10:\n",
        "    if valor == 4:\n",
        "        break\n",
        "    else:\n",
        "        pass\n",
        "    print(valor)\n",
        "    valor = valor + 1"
      ]
    },
    {
      "cell_type": "markdown",
      "metadata": {
        "id": "47zI08n-I-w7"
      },
      "source": [
        "Diferentemente do comando “break” que faz com que o fluxo de execução do loop seja interrompido, o comando “continue” desvia o fluxo de execução para o topo do comando (seja while ou for)\n"
      ]
    },
    {
      "cell_type": "markdown",
      "metadata": {
        "id": "342s3cvbI-w7"
      },
      "source": [
        "![Continue](continue.jpg)"
      ]
    },
    {
      "cell_type": "code",
      "execution_count": null,
      "metadata": {
        "id": "Xl6lk06mI-w8"
      },
      "outputs": [],
      "source": [
        "n=0\n",
        "while True:\n",
        "    if (n%2)==0:\n",
        "        n = n + 1\n",
        "        continue\n",
        "    print(\"O ultimo valor de n é \", n)\n",
        "    n = n + 1\n",
        "    if n>9:\n",
        "        break"
      ]
    },
    {
      "cell_type": "code",
      "execution_count": null,
      "metadata": {
        "id": "6kbYBgQtI-w9"
      },
      "outputs": [],
      "source": [
        "# Desconsideramos a letra z ao imprimir os caracteres da frase\n",
        "for letra in \"Python é zzz incrível!\":\n",
        "    if letra == \"z\":\n",
        "        continue\n",
        "    print(letra)"
      ]
    },
    {
      "cell_type": "markdown",
      "metadata": {
        "id": "UxxY0lKuI-w-"
      },
      "source": [
        "## While e For Juntos\n",
        "\n",
        "Vamos encontrar números primos em uma coleção de números usando loop While e For juntos.\n",
        "\n",
        "Um número primo é um número natural maior do que 1 que é divisível apenas por 1 e por ele mesmo. Isso significa que não há nenhum outro número inteiro que possa dividir o número primo sem deixar resto. Por exemplo, o número 2 é primo, pois é divisível apenas por 1 e 2. O número 4 não é primo, pois é divisível por 2.\n",
        "\n",
        "Aqui está o pseudocódigo:"
      ]
    },
    {
      "cell_type": "markdown",
      "metadata": {
        "id": "4pDUOeJYI-w-"
      },
      "source": [
        "Inicialize uma lista vazia para armazenar os números primos\n",
        "Para cada número N entre 2 e 30:\n",
        "  Inicialize uma variável eh_primo como verdadeira\n",
        "  Para cada número i entre 2 e N/2:\n",
        "    Se N é divisível por i, então:\n",
        "      Altere a variável eh_primo para falso\n",
        "      Pare de verificar os outros números\n",
        "  Se a variável eh_primo ainda é verdadeira, adicione N à lista de números primos\n",
        "Imprima a lista de números primos"
      ]
    },
    {
      "cell_type": "code",
      "execution_count": null,
      "metadata": {
        "id": "IUnXs05TI-w_"
      },
      "outputs": [],
      "source": [
        "%%time\n",
        "\n",
        "# Encontrando números primos entre 2 e 30 usando loop for e while\n",
        "\n",
        "# Variável para armazenar números primos\n",
        "primos = []\n",
        "\n",
        "# Loop for para percorrer números de 2 a 30\n",
        "for num in range(2, 31):\n",
        "\n",
        "    # Variável de controle\n",
        "    eh_primo = True\n",
        "\n",
        "    # Loop while para verificar se o número é primo\n",
        "    i = 2\n",
        "    while i <= num // 2:\n",
        "        if num % i == 0:\n",
        "            eh_primo = False\n",
        "            break\n",
        "        i += 1\n",
        "\n",
        "    # Adicionando o número primo na lista\n",
        "    if eh_primo:\n",
        "        primos.append(num)\n",
        "\n",
        "# Imprimindo a lista de números primos\n",
        "print(primos)"
      ]
    },
    {
      "cell_type": "code",
      "execution_count": null,
      "metadata": {
        "id": "1hXxCJMuI-w_"
      },
      "outputs": [],
      "source": [
        "%%time\n",
        "\n",
        "# Encontrando números primos entre 2 e 30 usando loop for e while (outro exemplo)\n",
        "\n",
        "# Loop for para percorrer números de 2 a 30\n",
        "for i in range(2,31):\n",
        "\n",
        "    # Variável de controle\n",
        "    j = 2\n",
        "\n",
        "    # Contador\n",
        "    valor = 0\n",
        "\n",
        "    # Loop while para verificar se o número é primo\n",
        "    while j < i:\n",
        "        if i % j == 0:\n",
        "            valor = 1\n",
        "            j = j + 1\n",
        "        else:\n",
        "            j = j + 1\n",
        "\n",
        "    if valor == 0:\n",
        "        print(str(i) + \" é um número primo\")\n",
        "        valor = 0\n",
        "    else:\n",
        "        valor = 0"
      ]
    },
    {
      "cell_type": "markdown",
      "metadata": {
        "id": "nFSZxeVKI-w_"
      },
      "source": [
        "## Função Range"
      ]
    },
    {
      "cell_type": "markdown",
      "metadata": {
        "id": "4Fzt1AQdI-xA"
      },
      "source": [
        "![Range](range.jpg)"
      ]
    },
    {
      "cell_type": "code",
      "execution_count": null,
      "metadata": {
        "id": "E8lcq4MeI-xI"
      },
      "outputs": [],
      "source": [
        "# Imprimindo números de 1 a10\n",
        "for i in range(1, 11):\n",
        "    print(i)"
      ]
    },
    {
      "cell_type": "code",
      "execution_count": null,
      "metadata": {
        "id": "sBQH30UzI-xJ"
      },
      "outputs": [],
      "source": [
        "# Imprimindo números pares entre 50 e 101\n",
        "for i in range(50, 101, 2):\n",
        "    print(i)"
      ]
    },
    {
      "cell_type": "code",
      "execution_count": null,
      "metadata": {
        "id": "sj4V7x7-I-xJ"
      },
      "outputs": [],
      "source": [
        "# Imprimindo os números pares negativos entre 0 e -20\n",
        "for i in range(0, -20, -2):\n",
        "    print(i)"
      ]
    },
    {
      "cell_type": "code",
      "execution_count": null,
      "metadata": {
        "id": "ZM74BMCSI-xK"
      },
      "outputs": [],
      "source": [
        "# Usando o tamanho de uma lista na função range()\n",
        "lista = ['Abacaxi', 'Banana', 'Morango', 'Uva']\n",
        "lista_tamanho = len(lista)\n",
        "for i in range(0, lista_tamanho):\n",
        "    print(lista[i])"
      ]
    },
    {
      "cell_type": "markdown",
      "metadata": {
        "id": "bt0yanPhI-xK"
      },
      "source": [
        "## Exercícios"
      ]
    },
    {
      "cell_type": "markdown",
      "metadata": {
        "id": "Szw22sQfI-xL"
      },
      "source": [
        "1. Faça um algoritmo que leia um valor N inteiro e positivo, calcule e mostre o valor E, conforme a fórmula a seguir.\n",
        "\n",
        "    E = (2 ** 1) + (2 ** 2) + (2 ** 3) + ... + (2 ** N)\n",
        "\n",
        "Resolva com for e depois while."
      ]
    },
    {
      "cell_type": "code",
      "execution_count": null,
      "metadata": {
        "id": "hZ21ABbiI-xL"
      },
      "outputs": [],
      "source": [
        "N = int(input(\"Digite um valor inteiro e positivo para N: \"))\n",
        "\n",
        "if N <= 0:\n",
        "    print(\"O valor de N deve ser inteiro e positivo.\")\n",
        "else:\n",
        "    E = 0\n",
        "    for i in range(1, N + 1):\n",
        "        E += 2 ** i\n",
        "    print(f\"O valor de E é: {E}\")"
      ]
    },
    {
      "cell_type": "code",
      "execution_count": null,
      "metadata": {
        "id": "IR5ZVpByI-xL"
      },
      "outputs": [],
      "source": [
        "N = int(input(\"Digite um valor inteiro e positivo para N: \"))\n",
        "\n",
        "if N <= 0:\n",
        "    print(\"O valor de N deve ser inteiro e positivo.\")\n",
        "else:\n",
        "    E = 0\n",
        "    i = 1\n",
        "    while i <= N:\n",
        "        E += 2 ** i\n",
        "        i += 1\n",
        "    print(f\"O valor de E é: {E}\")"
      ]
    },
    {
      "cell_type": "markdown",
      "metadata": {
        "id": "eoFOCuAEI-xL"
      },
      "source": [
        "2. Faça um algoritmo que leia o valor do peso e da altura de 5 pessoas. Ao final, o algoritmo deve mostrar:\n",
        "- O peso médio\n",
        "- A altura média\n",
        "- O maior e o menor IMC\n",
        "\n",
        "Obs: IMC (Índice de Massa Corporal) – calculado a partir da fórmula:    `IMC = massa / (altura * altura)`\n"
      ]
    },
    {
      "cell_type": "markdown",
      "source": [],
      "metadata": {
        "id": "1q9zYz5BL1gD"
      }
    },
    {
      "cell_type": "code",
      "execution_count": null,
      "metadata": {
        "colab": {
          "base_uri": "https://localhost:8080/",
          "height": 402
        },
        "id": "kpBe_579I-xM",
        "outputId": "f63232a5-11ee-44f3-c027-7dd70a6889c1"
      },
      "outputs": [
        {
          "name": "stdout",
          "output_type": "stream",
          "text": [
            "Digite o peso da pessoa 1: 12\n",
            "Digite a altura da pessoa 1: 3\n",
            "Digite o peso da pessoa 2: 4\n",
            "Digite a altura da pessoa 2: 4\n",
            "Digite o peso da pessoa 3: 4\n",
            "Digite a altura da pessoa 3: 4\n",
            "Digite o peso da pessoa 4: 4\n",
            "Digite a altura da pessoa 4: 4\n",
            "Digite o peso da pessoa 5: 4\n",
            "Digite a altura da pessoa 5: 4\n"
          ]
        },
        {
          "output_type": "error",
          "ename": "TypeError",
          "evalue": "'float' object is not iterable",
          "traceback": [
            "\u001b[0;31m---------------------------------------------------------------------------\u001b[0m",
            "\u001b[0;31mTypeError\u001b[0m                                 Traceback (most recent call last)",
            "\u001b[0;32m<ipython-input-2-3548564444>\u001b[0m in \u001b[0;36m<cell line: 0>\u001b[0;34m()\u001b[0m\n\u001b[1;32m      8\u001b[0m     \u001b[0mimc\u001b[0m \u001b[0;34m=\u001b[0m \u001b[0mpeso\u001b[0m \u001b[0;34m/\u001b[0m \u001b[0;34m(\u001b[0m\u001b[0maltura\u001b[0m \u001b[0;34m*\u001b[0m \u001b[0maltura\u001b[0m\u001b[0;34m)\u001b[0m\u001b[0;34m\u001b[0m\u001b[0;34m\u001b[0m\u001b[0m\n\u001b[1;32m      9\u001b[0m \u001b[0;34m\u001b[0m\u001b[0m\n\u001b[0;32m---> 10\u001b[0;31m \u001b[0mprint\u001b[0m\u001b[0;34m(\u001b[0m\u001b[0;34m\"O maior IMC é\"\u001b[0m\u001b[0;34m,\u001b[0m \u001b[0mmax\u001b[0m\u001b[0;34m(\u001b[0m\u001b[0mimc\u001b[0m\u001b[0;34m)\u001b[0m\u001b[0;34m)\u001b[0m\u001b[0;34m\u001b[0m\u001b[0;34m\u001b[0m\u001b[0m\n\u001b[0m\u001b[1;32m     11\u001b[0m \u001b[0mprint\u001b[0m\u001b[0;34m(\u001b[0m\u001b[0;34m\"O menor IMC é\"\u001b[0m\u001b[0;34m,\u001b[0m \u001b[0mmin\u001b[0m\u001b[0;34m(\u001b[0m\u001b[0mimc\u001b[0m\u001b[0;34m)\u001b[0m\u001b[0;34m)\u001b[0m\u001b[0;34m\u001b[0m\u001b[0;34m\u001b[0m\u001b[0m\n\u001b[1;32m     12\u001b[0m \u001b[0mprint\u001b[0m\u001b[0;34m(\u001b[0m\u001b[0;34m\"A média dos pesos é\"\u001b[0m\u001b[0;34m,\u001b[0m \u001b[0msum\u001b[0m\u001b[0;34m(\u001b[0m\u001b[0mpeso\u001b[0m\u001b[0;34m)\u001b[0m\u001b[0;34m/\u001b[0m\u001b[0mlen\u001b[0m\u001b[0;34m(\u001b[0m\u001b[0mpeso\u001b[0m\u001b[0;34m)\u001b[0m\u001b[0;34m)\u001b[0m\u001b[0;34m\u001b[0m\u001b[0;34m\u001b[0m\u001b[0m\n",
            "\u001b[0;31mTypeError\u001b[0m: 'float' object is not iterable"
          ]
        }
      ],
      "source": [
        "soma_peso = 0\n",
        "soma_altura = 0\n",
        "\n",
        "print(\"Pessoa 1:\")\n",
        "peso = float(input(\"Digite o peso (kg): \"))\n",
        "altura = float(input(\"Digite a altura (m): \"))\n",
        "\n",
        "soma_peso += peso\n",
        "soma_altura += altura\n",
        "imc = peso / (altura * altura)\n",
        "maior_imc = imc\n",
        "menor_imc = imc\n",
        "\n",
        "for i in range(2, 6):\n",
        "    print(f\"\\nPessoa {i}:\")\n",
        "    peso = float(input(\"Digite o peso (kg): \"))\n",
        "    altura = float(input(\"Digite a altura (m): \"))\n",
        "\n",
        "    soma_peso += peso\n",
        "    soma_altura += altura\n",
        "    imc = peso / (altura * altura)\n",
        "\n",
        "    if imc > maior_imc:\n",
        "        maior_imc = imc\n",
        "    if imc < menor_imc:\n",
        "        menor_imc = imc\n",
        "\n",
        "peso_medio = soma_peso / 5\n",
        "altura_media = soma_altura / 5\n",
        "\n",
        "print(\"\\nResultados:\")\n",
        "print(f\"Peso médio: {peso_medio:.2f} kg\")\n",
        "print(f\"Altura média: {altura_media:.2f} m\")\n",
        "print(f\"Maior IMC: {maior_imc:.2f}\")\n",
        "print(f\"Menor IMC: {menor_imc:.2f}\")\n"
      ]
    },
    {
      "cell_type": "markdown",
      "metadata": {
        "id": "uk9MnL9bI-xM"
      },
      "source": [
        "3. Faça um programa que receba um número inteiro x. Calcule e mostre o fatorial desse número (x!)."
      ]
    },
    {
      "cell_type": "code",
      "execution_count": null,
      "metadata": {
        "colab": {
          "base_uri": "https://localhost:8080/"
        },
        "id": "7xmyJd7RI-xN",
        "outputId": "a825830a-268f-4815-ff5a-d73e44c3b930"
      },
      "outputs": [
        {
          "output_type": "stream",
          "name": "stdout",
          "text": [
            "Digite um número inteiro: 4\n",
            "O fatorial de 4 é 24\n"
          ]
        }
      ],
      "source": [
        "n = int(input(\"Digite um número inteiro: \"))\n",
        "\n",
        "fatorial = 1\n",
        "for i in range(1, n + 1):\n",
        "    fatorial *= i\n",
        "\n",
        "print(f\"O fatorial de {n} é {fatorial}\")"
      ]
    },
    {
      "cell_type": "markdown",
      "metadata": {
        "id": "Q67xKYvCI-xN"
      },
      "source": [
        "4. Faça um programa que calcule os 10 primeiros números da sequencia de Fibonacci"
      ]
    },
    {
      "cell_type": "code",
      "execution_count": null,
      "metadata": {
        "id": "VlwpQX-GI-xO"
      },
      "outputs": [],
      "source": []
    },
    {
      "cell_type": "markdown",
      "metadata": {
        "id": "MJZXbBMjI-xO"
      },
      "source": [
        "5. Faça um programa que leia o valor de um número inteiro (n) e mostre os (n) números primos a partir do número 1."
      ]
    },
    {
      "cell_type": "code",
      "execution_count": null,
      "metadata": {
        "id": "QZWqeLfaI-xP"
      },
      "outputs": [],
      "source": []
    },
    {
      "cell_type": "markdown",
      "metadata": {
        "id": "3RTP03jUI-xQ"
      },
      "source": [
        "## FIM da Aula 8"
      ]
    }
  ],
  "metadata": {
    "kernelspec": {
      "display_name": "Python 3 (ipykernel)",
      "language": "python",
      "name": "python3"
    },
    "language_info": {
      "codemirror_mode": {
        "name": "ipython",
        "version": 3
      },
      "file_extension": ".py",
      "mimetype": "text/x-python",
      "name": "python",
      "nbconvert_exporter": "python",
      "pygments_lexer": "ipython3",
      "version": "3.11.8"
    },
    "colab": {
      "provenance": []
    }
  },
  "nbformat": 4,
  "nbformat_minor": 0
}